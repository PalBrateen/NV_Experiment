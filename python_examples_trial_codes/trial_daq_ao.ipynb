{
 "cells": [
  {
   "cell_type": "code",
   "execution_count": 4,
   "metadata": {},
   "outputs": [
    {
     "data": {
      "text/plain": [
       "DriverVersion(major_version=21, minor_version=0, update_version=0)"
      ]
     },
     "execution_count": 4,
     "metadata": {},
     "output_type": "execute_result"
    }
   ],
   "source": [
    "import nidaqmx.system\n",
    "system = nidaqmx.system.System.local()\n",
    "system.driver_version"
   ]
  },
  {
   "cell_type": "code",
   "execution_count": 1,
   "metadata": {},
   "outputs": [
    {
     "ename": "ImportError",
     "evalue": "attempted relative import with no known parent package",
     "output_type": "error",
     "traceback": [
      "\u001b[1;31m---------------------------------------------------------------------------\u001b[0m",
      "\u001b[1;31mImportError\u001b[0m                               Traceback (most recent call last)",
      "\u001b[1;32m<ipython-input-1-81267fe672bf>\u001b[0m in \u001b[0;36m<module>\u001b[1;34m\u001b[0m\n\u001b[1;32m----> 1\u001b[1;33m \u001b[1;32mfrom\u001b[0m \u001b[1;33m.\u001b[0m\u001b[1;33m.\u001b[0m\u001b[0mDAQcontrol\u001b[0m \u001b[1;32mimport\u001b[0m \u001b[1;33m*\u001b[0m\u001b[1;33m\u001b[0m\u001b[1;33m\u001b[0m\u001b[0m\n\u001b[0m\u001b[0;32m      2\u001b[0m \u001b[0mprint\u001b[0m\u001b[1;33m(\u001b[0m\u001b[0mcoil_calibration\u001b[0m\u001b[1;33m(\u001b[0m\u001b[1;33m[\u001b[0m\u001b[1;36m60\u001b[0m\u001b[1;33m,\u001b[0m\u001b[1;36m60\u001b[0m\u001b[1;33m,\u001b[0m\u001b[1;36m60\u001b[0m\u001b[1;33m]\u001b[0m\u001b[1;33m)\u001b[0m\u001b[1;33m)\u001b[0m\u001b[1;33m\u001b[0m\u001b[1;33m\u001b[0m\u001b[0m\n",
      "\u001b[1;31mImportError\u001b[0m: attempted relative import with no known parent package"
     ]
    }
   ],
   "source": [
    "from ..DAQcontrol import *\n"
   ]
  },
  {
   "cell_type": "code",
   "execution_count": 6,
   "metadata": {},
   "outputs": [
    {
     "data": {
      "text/plain": [
       "'d:\\\\Brateen\\\\Python_codes\\\\qdSpectro-active\\\\NV_Experiment\\\\python_examples_trial_codes'"
      ]
     },
     "execution_count": 6,
     "metadata": {},
     "output_type": "execute_result"
    }
   ],
   "source": [
    "import os; os.getcwd()"
   ]
  },
  {
   "cell_type": "code",
   "execution_count": 2,
   "metadata": {},
   "outputs": [
    {
     "name": "stdout",
     "output_type": "stream",
     "text": [
      "Device(name=P6363)\n",
      "Device(name=U9263)\n"
     ]
    }
   ],
   "source": [
    "for device in system.devices:\n",
    "    print(device)"
   ]
  },
  {
   "cell_type": "markdown",
   "metadata": {},
   "source": [
    "Basic AO"
   ]
  },
  {
   "cell_type": "code",
   "execution_count": 2,
   "metadata": {},
   "outputs": [
    {
     "name": "stdout",
     "output_type": "stream",
     "text": [
      "0.001\n",
      "1000\n"
     ]
    }
   ],
   "source": [
    "import numpy as np, matplotlib.pyplot as plt, nidaqmx, nidaqmx.constants, time, scipy as sp\n",
    "from scipy import signal\n",
    "%matplotlib qt5\n",
    "\n",
    "rate = 1000; dt = 1/rate; print(dt)\n",
    "n_points = int((1-0)/dt); print(n_points)\n",
    "t = np.linspace(0,1,n_points,endpoint=False)\n",
    "f=2\n",
    "# create the dc+square_wave pattern\n",
    "# data = np.zeros(np.shape(t))\n",
    "data = np.cos(2*np.pi*f*t)\n",
    "# data = np.append(data,data)\n",
    "# data=[]\n",
    "# data = np.append(data,signal.square(2*np.pi*f*t, duty=0.5))\n",
    "# data = np.append(data,np.zeros(np.shape(t)))\n",
    "# data = np.append(data,signal.square(2*np.pi*f*t, duty=0.5))\n",
    "plt.plot(np.array(range(0,len(data)))*dt,data,'.');\n",
    "plt.xlabel('Time [s]'); #plt.title('cos(2*np.pi*f*t), f=%d, 1e5 points' %f);"
   ]
  },
  {
   "cell_type": "code",
   "execution_count": 4,
   "metadata": {},
   "outputs": [
    {
     "data": {
      "text/plain": [
       "1000"
      ]
     },
     "execution_count": 4,
     "metadata": {},
     "output_type": "execute_result"
    }
   ],
   "source": [
    "len(data)"
   ]
  },
  {
   "cell_type": "code",
   "execution_count": 1,
   "metadata": {},
   "outputs": [
    {
     "ename": "NameError",
     "evalue": "name 'data' is not defined",
     "output_type": "error",
     "traceback": [
      "\u001b[1;31m---------------------------------------------------------------------------\u001b[0m",
      "\u001b[1;31mNameError\u001b[0m                                 Traceback (most recent call last)",
      "\u001b[1;32m<ipython-input-1-b5b35b02bc5c>\u001b[0m in \u001b[0;36m<module>\u001b[1;34m\u001b[0m\n\u001b[1;32m----> 1\u001b[1;33m \u001b[0mNsamples\u001b[0m \u001b[1;33m=\u001b[0m \u001b[0mlen\u001b[0m\u001b[1;33m(\u001b[0m\u001b[0mdata\u001b[0m\u001b[1;33m)\u001b[0m\u001b[1;33m*\u001b[0m\u001b[1;36m5\u001b[0m\u001b[1;33m\u001b[0m\u001b[1;33m\u001b[0m\u001b[0m\n\u001b[0m\u001b[0;32m      2\u001b[0m \u001b[0mtimeout\u001b[0m \u001b[1;33m=\u001b[0m \u001b[0mNsamples\u001b[0m\u001b[1;33m/\u001b[0m\u001b[0mrate\u001b[0m\u001b[1;33m;\u001b[0m \u001b[0mprint\u001b[0m\u001b[1;33m(\u001b[0m\u001b[1;34m\"Runtime / Timeout [s]:\"\u001b[0m\u001b[1;33m,\u001b[0m \u001b[0mtimeout\u001b[0m\u001b[1;33m)\u001b[0m\u001b[1;33m\u001b[0m\u001b[1;33m\u001b[0m\u001b[0m\n\u001b[0;32m      3\u001b[0m \u001b[1;32mwith\u001b[0m \u001b[0mnidaqmx\u001b[0m\u001b[1;33m.\u001b[0m\u001b[0mTask\u001b[0m\u001b[1;33m(\u001b[0m\u001b[1;33m)\u001b[0m \u001b[1;32mas\u001b[0m \u001b[0mtask\u001b[0m\u001b[1;33m:\u001b[0m\u001b[1;33m\u001b[0m\u001b[1;33m\u001b[0m\u001b[0m\n\u001b[0;32m      4\u001b[0m     \u001b[0mtask\u001b[0m\u001b[1;33m.\u001b[0m\u001b[0mao_channels\u001b[0m\u001b[1;33m.\u001b[0m\u001b[0madd_ao_voltage_chan\u001b[0m\u001b[1;33m(\u001b[0m\u001b[1;34m\"U9263/ao2\"\u001b[0m\u001b[1;33m)\u001b[0m\u001b[1;33m\u001b[0m\u001b[1;33m\u001b[0m\u001b[0m\n\u001b[0;32m      5\u001b[0m     \u001b[0mtask\u001b[0m\u001b[1;33m.\u001b[0m\u001b[0mtiming\u001b[0m\u001b[1;33m.\u001b[0m\u001b[0mcfg_samp_clk_timing\u001b[0m\u001b[1;33m(\u001b[0m\u001b[0mrate\u001b[0m\u001b[1;33m,\u001b[0m \u001b[0msource\u001b[0m\u001b[1;33m=\u001b[0m\u001b[1;34m''\u001b[0m\u001b[1;33m,\u001b[0m \u001b[0mactive_edge\u001b[0m\u001b[1;33m=\u001b[0m\u001b[0mnidaqmx\u001b[0m\u001b[1;33m.\u001b[0m\u001b[0mconstants\u001b[0m\u001b[1;33m.\u001b[0m\u001b[0mEdge\u001b[0m\u001b[1;33m.\u001b[0m\u001b[0mRISING\u001b[0m\u001b[1;33m,\u001b[0m \u001b[0msample_mode\u001b[0m\u001b[1;33m=\u001b[0m\u001b[0mnidaqmx\u001b[0m\u001b[1;33m.\u001b[0m\u001b[0mconstants\u001b[0m\u001b[1;33m.\u001b[0m\u001b[0mAcquisitionType\u001b[0m\u001b[1;33m.\u001b[0m\u001b[0mFINITE\u001b[0m\u001b[1;33m,\u001b[0m \u001b[0msamps_per_chan\u001b[0m\u001b[1;33m=\u001b[0m\u001b[0mNsamples\u001b[0m\u001b[1;33m)\u001b[0m\u001b[1;33m\u001b[0m\u001b[1;33m\u001b[0m\u001b[0m\n",
      "\u001b[1;31mNameError\u001b[0m: name 'data' is not defined"
     ]
    }
   ],
   "source": [
    "Nsamples = len(data)*5\n",
    "timeout = Nsamples/rate; print(\"Runtime / Timeout [s]:\", timeout)\n",
    "with nidaqmx.Task() as task:\n",
    "    task.ao_channels.add_ao_voltage_chan(\"U9263/ao2\")\n",
    "    task.timing.cfg_samp_clk_timing(rate, source='', active_edge=nidaqmx.constants.Edge.RISING, sample_mode=nidaqmx.constants.AcquisitionType.FINITE, samps_per_chan=Nsamples)\n",
    "    task.write(data, auto_start=True)\n",
    "    time.sleep(timeout)\n",
    "    # task.write(0)\n",
    "    # task.close()\n",
    "with nidaqmx.Task() as task:\n",
    "    task.ao_channels.add_ao_voltage_chan(\"U9263/ao2\")\n",
    "    task.timing.cfg_samp_clk_timing(rate, source='', active_edge=nidaqmx.constants.Edge.RISING, sample_mode=nidaqmx.constants.AcquisitionType.FINITE, samps_per_chan=10)\n",
    "    task.write([0]*10, auto_start=True)\n"
   ]
  },
  {
   "cell_type": "markdown",
   "metadata": {},
   "source": [
    "Advanced AO: Different Patterns"
   ]
  },
  {
   "cell_type": "code",
   "execution_count": 9,
   "metadata": {},
   "outputs": [
    {
     "name": "stdout",
     "output_type": "stream",
     "text": [
      "dt = 0.01\n",
      "n_points = 12000\n",
      "n_points = 90000\n",
      "len(data) = 102000\n"
     ]
    }
   ],
   "source": [
    "import numpy as np, matplotlib.pyplot as plt, nidaqmx, nidaqmx.constants, time, scipy as sp\n",
    "from scipy import signal\n",
    "%matplotlib qt5\n",
    "\n",
    "coil_calib = [26.5, 26.8, 43.5]     # in gauss for 1 V_DAQ volatge; specified for (x,y,z) coils respectively..\n",
    "offset = 25; amplitude_z = [30];      # offset and amplitude_z of magetic field in gauss\n",
    "offset = offset/coil_calib[2]; amplitude_z = [i/coil_calib[2] for i in amplitude_z]\n",
    "rate = 100; dt = 1/rate; print('dt =',dt)      # dt represents the time difference between the two consecutive points in the time arrray\n",
    "\n",
    "# create the dc+square_wave pattern\n",
    "pattern_time = 120;  # pattern time in seconds\n",
    "n_points = int((pattern_time-0)/dt); print('n_points =', n_points)\n",
    "t = np.linspace(0, pattern_time, n_points, endpoint=False)\n",
    "# The above statement is equivalent to MATLAB t = np.arange(0,pattern_time,dt), the last time point is ignored..\n",
    "# The statements produce the required time array with the spacing as specified by the SAMPLE RATE... Remember that the sample rate is the deciding factor...\n",
    "data = offset + np.zeros(np.shape(t));\n",
    "\n",
    "def create_square_test_field(t, offset, amp, freq):\n",
    "    # n_patterns = 2; pattern = np.zeros((len(t),n_patterns))\n",
    "    # # for i in range(0,n_patterns):\n",
    "    # pattern[:,0] = \n",
    "    pattern = offset + (amp-offset) * signal.square(2*np.pi*freq*t, duty=0.5)\n",
    "    # print(pattern)\n",
    "    # pattern = np.ravel(pattern,order='F')\n",
    "    # print(pattern)\n",
    "    return pattern\n",
    "\n",
    "frequency=1/60;\n",
    "# data=[]\n",
    "pattern_time = 900;  # pattern time in seconds\n",
    "n_points = int((pattern_time-0)/dt); print('n_points =', n_points)\n",
    "t = np.linspace(0, pattern_time, n_points, endpoint=False)\n",
    "for i in range(0, len(amplitude_z)):\n",
    "    data = np.append(data, create_square_test_field(t, offset, amp=amplitude_z[i], freq=frequency))\n",
    "\n",
    "print('len(data) =', len(data))\n",
    "plt.subplot(211);   plt.plot(np.array(range(0, len(data)))*dt, data, '--'); plt.ylabel(\"DAQ Voltage [V]\");\n",
    "plt.subplot(212);   plt.plot(np.array(range(0, len(data)))*dt, data*coil_calib[2], '--'); plt.ylabel(\"Magnetic field [G]\");\n",
    "plt.xlabel('Time [s]'); #plt.title('cos(2*np.pi*f*t), f=%d, 1e5 points' %f);"
   ]
  },
  {
   "cell_type": "code",
   "execution_count": 10,
   "metadata": {},
   "outputs": [
    {
     "data": {
      "text/plain": [
       "Text(0.5, 0, 'Time [s]')"
      ]
     },
     "execution_count": 10,
     "metadata": {},
     "output_type": "execute_result"
    }
   ],
   "source": [
    "plt.figure(); plt.plot(np.array(range(0, len(data)))*dt, data*coil_calib[2], '--'); plt.ylabel(\"Magnetic field [G]\");\n",
    "plt.xlabel('Time [s]')"
   ]
  },
  {
   "cell_type": "code",
   "execution_count": 2,
   "metadata": {},
   "outputs": [
    {
     "name": "stdout",
     "output_type": "stream",
     "text": [
      "Runtime / Timeout [s]: 1020.0\n"
     ]
    }
   ],
   "source": [
    "Nsamples = len(data)\n",
    "timeout = Nsamples/rate; print(\"Runtime / Timeout [s]:\", timeout)\n",
    "with nidaqmx.Task() as task:\n",
    "    task.ao_channels.add_ao_voltage_chan(\"U9263/ao2\")\n",
    "    task.timing.cfg_samp_clk_timing(rate, source='', active_edge=nidaqmx.constants.Edge.RISING, sample_mode=nidaqmx.constants.AcquisitionType.FINITE, samps_per_chan=Nsamples)\n",
    "    task.write(data, auto_start=True)\n",
    "    time.sleep(timeout)\n",
    "    # task.write(0)\n",
    "    # task.close()\n",
    "with nidaqmx.Task() as task:\n",
    "    task.ao_channels.add_ao_voltage_chan(\"U9263/ao2\")\n",
    "    task.timing.cfg_samp_clk_timing(rate, source='', active_edge=nidaqmx.constants.Edge.RISING, sample_mode=nidaqmx.constants.AcquisitionType.FINITE, samps_per_chan=10)\n",
    "    task.write([0]*10, auto_start=True)\n"
   ]
  },
  {
   "cell_type": "markdown",
   "metadata": {},
   "source": []
  },
  {
   "cell_type": "code",
   "execution_count": 1,
   "metadata": {},
   "outputs": [
    {
     "name": "stdout",
     "output_type": "stream",
     "text": [
      "dt = 5e-05\n",
      "n_points = 200000\n",
      "len(data) = 200000\n"
     ]
    }
   ],
   "source": [
    "import numpy as np, matplotlib.pyplot as plt, nidaqmx, nidaqmx.constants, time, scipy as sp\n",
    "from scipy import signal\n",
    "%matplotlib qt5\n",
    "\n",
    "# coil_calib = [26.5, 26.8, 43.5]     # in gauss for 1 V_DAQ volatge; specified for (x,y,z) coils respectively..\n",
    "offset = 0; amplitude_z = [5];      # offset and amplitude_z of magetic field in gauss\n",
    "# offset = offset/coil_calib[2]; amplitude_z = [i/coil_calib[2] for i in amplitude_z]\n",
    "rate = 200e2; dt = 1/rate; print('dt =',dt)      # dt represents the time difference between the two consecutive points in the time arrray\n",
    "\n",
    "# create the sine_wave pattern\n",
    "\n",
    "def create_square_test_field(t, offset, amp, freq):\n",
    "    # n_patterns = 2; pattern = np.zeros((len(t),n_patterns))\n",
    "    # # for i in range(0,n_patterns):\n",
    "    # pattern[:,0] = \n",
    "    pattern = offset + (amp-offset) * signal.square(2*np.pi*freq*t, duty=0.5)\n",
    "    # print(pattern)\n",
    "    # pattern = np.ravel(pattern,order='F')\n",
    "    # print(pattern)\n",
    "    return pattern\n",
    "\n",
    "def create_sine_field(t, offset, amp, freq):\n",
    "    pattern = offset + (amp-offset) * np.sin(2*np.pi*freq*t)\n",
    "    return pattern\n",
    "\n",
    "frequency=117;\n",
    "data=[]\n",
    "pattern_time = 10;  # pattern time in seconds\n",
    "n_points = int((pattern_time-0)/dt); print('n_points =', n_points)\n",
    "t = np.linspace(0, pattern_time, n_points, endpoint=False)\n",
    "for i in range(0, len(amplitude_z)):\n",
    "    data = np.append(data, create_sine_field(t, offset, amp=amplitude_z[i], freq=frequency))\n",
    "\n",
    "print('len(data) =', len(data))\n",
    "\n",
    "plt.figure(); plt.plot(np.array(range(0, len(data)))*dt, data); plt.ylabel(\"DAQ Voltage [V]\");\n",
    "# plt.subplot(212);   plt.plot(np.array(range(0, len(data)))*dt, data*coil_calib[2], '--'); plt.ylabel(\"Magnetic field [G]\");\n",
    "plt.xlabel('Time [s]'); #plt.title('cos(2*np.pi*f*t), f=%d, 1e5 points' %f);"
   ]
  },
  {
   "cell_type": "code",
   "execution_count": 3,
   "metadata": {},
   "outputs": [
    {
     "name": "stdout",
     "output_type": "stream",
     "text": [
      "Runtime / Timeout [s]: 10.0\n"
     ]
    }
   ],
   "source": [
    "ao_device = \"U6211/ao0\"\n",
    "Nsamples = len(data)\n",
    "timeout = Nsamples/rate; print(\"Runtime / Timeout [s]:\", timeout)\n",
    "with nidaqmx.Task() as task:\n",
    "    task.ao_channels.add_ao_voltage_chan(ao_device)\n",
    "    task.timing.cfg_samp_clk_timing(rate, source='OnboardClock', active_edge=nidaqmx.constants.Edge.RISING, sample_mode=nidaqmx.constants.AcquisitionType.CONTINUOUS, samps_per_chan=Nsamples)\n",
    "    task.write(data, auto_start=False)\n",
    "    def callback(task_handle, every_n_samples_event_type, number_of_samples, callback_data):\n",
    "        task.write(data, auto_start=False)\n",
    "        return 0\n",
    "    \n",
    "    task.register_every_n_samples_transferred_from_buffer_event(int(Nsamples*0.1), callback)\n",
    "    task.start()\n",
    "    # task.register_every_n_samples_transferred_from_buffer_event\n",
    "\n",
    "    # print(\"Primes upto 1e5:\")\n",
    "    # start_time = time.perf_counter();\n",
    "    # for i in range(0,int(1e5)):\n",
    "    #     c=0;\n",
    "    #     for j in range(1,int(i)):\n",
    "    #         if i%j==0:\n",
    "    #             c+=1\n",
    "    #     if c==1:\n",
    "    #         print(i)\n",
    "    # stop_time = time.perf_counter();\n",
    "    input(\"Press enter to stop\")\n",
    "    # task.write(0)\n",
    "    # task.close()\n",
    "\n",
    "# print(\"Loop time [min] = \", (stop_time-start_time)/60)\n",
    "# with nidaqmx.Task() as task:\n",
    "#     task.ao_channels.add_ao_voltage_chan(\"U6211/ao0\")\n",
    "#     task.timing.cfg_samp_clk_timing(rate, source='', active_edge=nidaqmx.constants.Edge.RISING, sample_mode=nidaqmx.constants.AcquisitionType.FINITE, samps_per_chan=10)\n",
    "#     task.write([0]*10, auto_start=True)"
   ]
  },
  {
   "cell_type": "markdown",
   "metadata": {},
   "source": [
    "what is error code: -200877??"
   ]
  },
  {
   "cell_type": "markdown",
   "metadata": {},
   "source": [
    "Background acquisition example"
   ]
  },
  {
   "cell_type": "code",
   "execution_count": 4,
   "metadata": {},
   "outputs": [
    {
     "name": "stdout",
     "output_type": "stream",
     "text": [
      "0\n",
      "1\n",
      "2\n",
      "3\n",
      "4\n",
      "5\n",
      "6\n",
      "7\n",
      "8\n",
      "9\n",
      "6000\n"
     ]
    }
   ],
   "source": [
    "\"\"\"Example for reading singals for every n samples.\"\"\"\n",
    "import pprint, matplotlib.pyplot as plt\n",
    "%matplotlib qt5\n",
    "import nidaqmx, time\n",
    "from nidaqmx.constants import AcquisitionType, TerminalConfiguration\n",
    "\n",
    "pp = pprint.PrettyPrinter(indent=4)\n",
    "\n",
    "\n",
    "with nidaqmx.Task() as task:\n",
    "    task.ai_channels.add_ai_voltage_chan(\"P6363/ai8\", terminal_config=TerminalConfiguration.RSE, )\n",
    "\n",
    "    task.timing.cfg_samp_clk_timing(1000, sample_mode=AcquisitionType.CONTINUOUS)\n",
    "\n",
    "    samples = []\n",
    "    # plt.figure(1)\n",
    "    def callback(task_handle, every_n_samples_event_type, number_of_samples, callback_data):\n",
    "        \"\"\"Callback function for reading singals.\"\"\"\n",
    "        # print(\"Every N Samples callback invoked.\")\n",
    "        samp = task.read(number_of_samples_per_channel=1000)\n",
    "        samples.extend(samp)\n",
    "        # plt.plot(samp)\n",
    "        time.sleep(2)\n",
    "        # plt.show()\n",
    "        return 0\n",
    "\n",
    "    task.register_every_n_samples_acquired_into_buffer_event(1000, callback)\n",
    "\n",
    "    task.start()\n",
    "    for i in range(0,10):\n",
    "        print(i)\n",
    "    input(\"Running task. Press Enter to stop and see number of \" \"accumulated samples.\\n\")\n",
    "\n",
    "plt.plot(samples)\n",
    "print(len(samples))"
   ]
  },
  {
   "cell_type": "markdown",
   "metadata": {},
   "source": [
    "Background generation trial"
   ]
  },
  {
   "cell_type": "code",
   "execution_count": null,
   "metadata": {},
   "outputs": [],
   "source": []
  },
  {
   "cell_type": "markdown",
   "metadata": {},
   "source": [
    "'Real-time' plotting from Halsvorsen blog"
   ]
  },
  {
   "cell_type": "code",
   "execution_count": null,
   "metadata": {},
   "outputs": [],
   "source": [
    "# https://www.halvorsen.blog/documents/programming/python/resources/powerpoints/DAQ%20with%20Python.pdf\n",
    "import nidaqmx\n",
    "import time\n",
    "import matplotlib.pyplot as plt\n",
    "import matplotlib.animation as animation\n",
    "# Read from DAQ Device\n",
    "def readdaq():\n",
    "    task = nidaqmx.Task()\n",
    "    task.ai_channels.add_ai_voltage_chan(\"P6363/ai8\", terminal_config=nidaqmx.constants.TerminalConfiguration.RSE)\n",
    "    task.start()\n",
    "    value = task.read()\n",
    "    task.stop()\n",
    "    task.close()\n",
    "    return value\n",
    "\n",
    "# Write Data Function\n",
    "def writefiledata(t, x):\n",
    "    # Open File\n",
    "    file = open(\"tempdata.txt\", \"a\")\n",
    "    # Write Data\n",
    "    time = str(t)\n",
    "    value = str(round(x, 2))\n",
    "    file.write(time + \"\\t\" + value)\n",
    "    file.write(\"\\n\")\n",
    "    # Close File\n",
    "    file.close()\n",
    "\n",
    "# Initialize Logging\n",
    "Ts = 1 # Sampling Time [seconds]\n",
    "N = 100\n",
    "k = 1\n",
    "x_len = N # Number of points to display\n",
    "Tmin = 15; Tmax = 28\n",
    "# y_range = [Tmin, Tmax] # Range of possible Y values to display\n",
    "data = []\n",
    "\n",
    "# Create figure for plotting\n",
    "fig = plt.figure()\n",
    "ax = fig.add_subplot(1, 1, 1)\n",
    "xs = list(range(0, N))\n",
    "ys = [0] * x_len\n",
    "# ax.set_ylim(y_range)\n",
    "\n",
    "# Create a blank line. We will update the line in animate\n",
    "line, = ax.plot(xs, ys)\n",
    "# Configure Plot\n",
    "plt.title('Temperature')\n",
    "plt.xlabel('t [s]')\n",
    "plt.ylabel('Temp [degC]')\n",
    "plt.grid()\n",
    "\n",
    "#Logging Temperature Data from DAQ Device\n",
    "def logging(i, ys):\n",
    "    value = readdaq()\n",
    "    print(\"T =\", round(value,1), \"[degC]\")\n",
    "    data.append(value)\n",
    "    time.sleep(Ts)\n",
    "    global k\n",
    "    k = k + 1\n",
    "    writefiledata(k*Ts, value)\n",
    "    # Add y to list\n",
    "    ys.append(value)\n",
    "    # Limit y list to set number of items\n",
    "    ys = ys[-x_len:]\n",
    "    # Update line with new Y values\n",
    "    line.set_ydata(ys)\n",
    "    return line,\n",
    "ani = animation.FuncAnimation(fig, logging, fargs=(ys,), interval=100, blit=True)\n",
    "plt.show()"
   ]
  },
  {
   "cell_type": "code",
   "execution_count": 7,
   "metadata": {},
   "outputs": [
    {
     "name": "stdout",
     "output_type": "stream",
     "text": [
      "Device Name: P6363, Product Type: PCIe-6363\n",
      "Input channels: ['P6363/ai0', 'P6363/ai1', 'P6363/ai2', 'P6363/ai3', 'P6363/ai4', 'P6363/ai5', 'P6363/ai6', 'P6363/ai7', 'P6363/ai8', 'P6363/ai9', 'P6363/ai10', 'P6363/ai11', 'P6363/ai12', 'P6363/ai13', 'P6363/ai14', 'P6363/ai15', 'P6363/ai16', 'P6363/ai17', 'P6363/ai18', 'P6363/ai19', 'P6363/ai20', 'P6363/ai21', 'P6363/ai22', 'P6363/ai23', 'P6363/ai24', 'P6363/ai25', 'P6363/ai26', 'P6363/ai27', 'P6363/ai28', 'P6363/ai29', 'P6363/ai30', 'P6363/ai31']\n",
      "Output channels: ['P6363/ao0', 'P6363/ao1', 'P6363/ao2', 'P6363/ao3']\n"
     ]
    }
   ],
   "source": [
    "\"\"\"Simultaneous read and write with NI USB-4431 or similar device.\"\"\"\n",
    "\n",
    "import numpy as np\n",
    "\n",
    "import nidaqmx as ni\n",
    "from nidaqmx.constants import WAIT_INFINITELY\n",
    "\n",
    "\n",
    "def query_devices():\n",
    "    \"\"\"Queries all the device information connected to the local system.\"\"\"\n",
    "    local = ni.system.System.local()\n",
    "    for device in local.devices:\n",
    "        print(f\"Device Name: {device.name}, Product Type: {device.product_type}\")\n",
    "        print(\"Input channels:\", [chan.name for chan in device.ai_physical_chans])\n",
    "        print(\"Output channels:\", [chan.name for chan in device.ao_physical_chans])\n",
    "\n",
    "\n",
    "def playrec(data, samplerate, input_mapping, output_mapping):\n",
    "    \"\"\"Simultaneous playback and recording though NI device.\n",
    "\n",
    "    Parameters:\n",
    "    -----------\n",
    "    data: array_like, shape (nsamples, len(output_mapping))\n",
    "      Data to be send to output channels.\n",
    "    samplerate: int\n",
    "      Samplerate\n",
    "    input_mapping: list of str\n",
    "      Input device channels\n",
    "    output_mapping: list of str\n",
    "      Output device channels\n",
    "\n",
    "    Returns\n",
    "    -------\n",
    "    ndarray, shape (nsamples, len(input_mapping))\n",
    "      Recorded data\n",
    "\n",
    "    \"\"\"\n",
    "    devices = ni.system.System.local().devices\n",
    "    data = np.asarray(data).T\n",
    "    nsamples = data.shape[1]\n",
    "\n",
    "    with ni.Task() as read_task, ni.Task() as write_task:\n",
    "        for i, o in enumerate(output_mapping):\n",
    "            aochan = write_task.ao_channels.add_ao_voltage_chan(\n",
    "                o,\n",
    "                min_val=devices[o].ao_voltage_rngs[0],\n",
    "                max_val=devices[o].ao_voltage_rngs[1],\n",
    "            )\n",
    "            min_data, max_data = np.min(data[i]), np.max(data[i])\n",
    "            if ((max_data > aochan.ao_max) | (min_data < aochan.ao_min)).any():\n",
    "                raise ValueError(\n",
    "                    f\"Data range ({min_data:.2f}, {max_data:.2f}) exceeds output range of \"\n",
    "                    f\"{o} ({aochan.ao_min:.2f}, {aochan.ao_max:.2f}).\"\n",
    "                )\n",
    "        for i in input_mapping:\n",
    "            read_task.ai_channels.add_ai_voltage_chan(i)\n",
    "\n",
    "        for task in (read_task, write_task):\n",
    "            task.timing.cfg_samp_clk_timing(\n",
    "                rate=samplerate, source=\"OnboardClock\", samps_per_chan=nsamples\n",
    "            )\n",
    "\n",
    "        # trigger write_task as soon as read_task starts\n",
    "        write_task.triggers.start_trigger.cfg_dig_edge_start_trig(\n",
    "            read_task.triggers.start_trigger.term\n",
    "        )\n",
    "        # squeeze as Task.write expects 1d array for 1 channel\n",
    "        write_task.write(data.squeeze(), auto_start=False)\n",
    "        # write_task doesn't start at read_task's start_trigger without this\n",
    "        write_task.start()\n",
    "        # do not time out for long inputs\n",
    "        indata = read_task.read(nsamples, timeout=WAIT_INFINITELY)\n",
    "\n",
    "    return np.asarray(indata).T\n",
    "\n",
    "\n",
    "if __name__ == \"__main__\":\n",
    "    query_devices()\n",
    "    # Prints in this example:\n",
    "    #   Device Name: Dev2, Product Type: USB-4431\n",
    "    #   Input channels: ['Dev2/ai0', 'Dev2/ai1', 'Dev2/ai2', 'Dev2/ai3']\n",
    "    #   Output channels: ['Dev2/ao0']\n",
    "\n",
    "    # excite through one output and record at three inputs\n",
    "    outdata = np.random.normal(size=(5000, 1)) * 0.01\n",
    "    indata = playrec(\n",
    "        outdata,\n",
    "        samplerate=96000,\n",
    "        input_mapping=[\"P6363/ai0\", \"P6363/ai1\", \"P6363/ai2\"],\n",
    "        output_mapping=[\"P6363/ao0\"],\n",
    "    )\n"
   ]
  }
 ],
 "metadata": {
  "kernelspec": {
   "display_name": "base",
   "language": "python",
   "name": "python3"
  },
  "language_info": {
   "codemirror_mode": {
    "name": "ipython",
    "version": 3
   },
   "file_extension": ".py",
   "mimetype": "text/x-python",
   "name": "python",
   "nbconvert_exporter": "python",
   "pygments_lexer": "ipython3",
   "version": "3.8.8"
  }
 },
 "nbformat": 4,
 "nbformat_minor": 2
}
