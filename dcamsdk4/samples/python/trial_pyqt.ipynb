{
 "cells": [
  {
   "cell_type": "markdown",
   "metadata": {},
   "source": [
    "### Using PyQt for field alignment and exposure control"
   ]
  },
  {
   "cell_type": "code",
   "execution_count": 2,
   "metadata": {},
   "outputs": [
    {
     "ename": "",
     "evalue": "",
     "output_type": "error",
     "traceback": [
      "\u001b[1;31mThe Kernel crashed while executing code in the current cell or a previous cell. \n",
      "\u001b[1;31mPlease review the code in the cell(s) to identify a possible cause of the failure. \n",
      "\u001b[1;31mClick <a href='https://aka.ms/vscodeJupyterKernelCrash'>here</a> for more info. \n",
      "\u001b[1;31mView Jupyter <a href='command:jupyter.viewOutput'>log</a> for further details."
     ]
    }
   ],
   "source": [
    "Great... It works..\n",
    "I had a different code with me. I works but does not exit properly. Can u help me find the mistakes or possible issues that should be resolved??? And what is the difference between this code and ur previous example code? The previous code seems to consider something that is not present in this code...\n",
    "Code:\n",
    "\n",
    "from PyQt5.QtWidgets import (QApplication, QWidget, QVBoxLayout, QHBoxLayout,\n",
    "                             QDoubleSpinBox, QPushButton)\n",
    "from PyQt5.QtCore import Qt, QEvent\n",
    "\n",
    "class MainWindow(QWidget):\n",
    "\n",
    "    def __init__(self):\n",
    "        super().__init__()\n",
    "\n",
    "        self.layout = QVBoxLayout(self)\n",
    "\n",
    "        # Create input field layout\n",
    "        input_layout = QHBoxLayout()\n",
    "        self.input_field1 = QDoubleSpinBox()\n",
    "        self.input_field1.installEventFilter(self)  # Install event filter on each box\n",
    "        self.input_field2 = QDoubleSpinBox()\n",
    "        self.input_field2.installEventFilter(self)\n",
    "        self.input_field3 = QDoubleSpinBox()\n",
    "        self.input_field3.installEventFilter(self)\n",
    "        self.input_field4 = QDoubleSpinBox()\n",
    "        self.input_field4.installEventFilter(self)  # Install event filter on the fourth box\n",
    "        input_layout.addWidget(self.input_field1)\n",
    "        input_layout.addWidget(self.input_field2)\n",
    "        input_layout.addWidget(self.input_field3)\n",
    "        input_layout.addWidget(self.input_field4)\n",
    "\n",
    "        self.layout.addLayout(input_layout)\n",
    "\n",
    "        # Process button\n",
    "        self.process_button = QPushButton(\"Process Input\")\n",
    "        self.process_button.clicked.connect(self.handle_input)\n",
    "        self.layout.addWidget(self.process_button)\n",
    "\n",
    "        self.setLayout(self.layout)\n",
    "\n",
    "    def eventFilter(self, obj, event):\n",
    "        if event.type() == QEvent.KeyPress:\n",
    "            if event.key() == Qt.Key_Return:\n",
    "                self.handle_input()\n",
    "                return True  # Consume the event\n",
    "        return super().eventFilter(obj, event)\n",
    "\n",
    "    def handle_input(self):\n",
    "        input_list = [\n",
    "            self.input_field1.value(),\n",
    "            self.input_field2.value(),\n",
    "            self.input_field3.value(),\n",
    "            self.input_field4.value()  # Access the fourth input box\n",
    "        ]\n",
    "\n",
    "        # Clear all input fields after processing (not applicable for QDoubleSpinBox)\n",
    "\n",
    "        # Add your logic to process the input list here\n",
    "        print(f\"Input received: {input_list}\")\n",
    "\n",
    "        # Example: Check for exit command (assuming a numeric exit value)\n",
    "        if input_list[0] == 10:  # Replace 10 with your desired exit value\n",
    "            self.close()  # Close the application window\n",
    "\n",
    "if __name__ == '__main__':\n",
    "    app = QApplication([])\n",
    "    window = MainWindow()\n",
    "    window.show()\n",
    "    app.exec_()\n"
   ]
  },
  {
   "cell_type": "markdown",
   "metadata": {},
   "source": [
    "### Display values in a text box simultaneously with input"
   ]
  },
  {
   "cell_type": "code",
   "execution_count": 2,
   "metadata": {},
   "outputs": [
    {
     "ename": "",
     "evalue": "",
     "output_type": "error",
     "traceback": [
      "\u001b[1;31mThe Kernel crashed while executing code in the current cell or a previous cell. \n",
      "\u001b[1;31mPlease review the code in the cell(s) to identify a possible cause of the failure. \n",
      "\u001b[1;31mClick <a href='https://aka.ms/vscodeJupyterKernelCrash'>here</a> for more info. \n",
      "\u001b[1;31mView Jupyter <a href='command:jupyter.viewOutput'>log</a> for further details."
     ]
    }
   ],
   "source": [
    "from PyQt5.QtCore import Qt, QTimer\n",
    "from PyQt5.QtWidgets import QApplication, QWidget, QVBoxLayout, QLabel\n",
    "\n",
    "\n",
    "class CounterWindow(QWidget):\n",
    "    def __init__(self):\n",
    "        super().__init__()\n",
    "\n",
    "        self.count = 0\n",
    "        self.label = QLabel(\"0\")\n",
    "        self.label.setAlignment(Qt.AlignCenter)  # Center the text\n",
    "\n",
    "        self.layout = QVBoxLayout()\n",
    "        self.layout.addWidget(self.label)\n",
    "        self.setLayout(self.layout)\n",
    "\n",
    "        self.timer = QTimer(self)\n",
    "        self.timer.setInterval(1000)  # Update every second\n",
    "        self.timer.timeout.connect(self.update_count)\n",
    "        self.timer.start()\n",
    "\n",
    "    def update_count(self):\n",
    "        self.count += 1\n",
    "        self.label.setText(str(self.count))\n",
    "\n",
    "\n",
    "if __name__ == \"__main__\":\n",
    "    app = QApplication([])\n",
    "    window = CounterWindow()\n",
    "    window.show()\n",
    "    app.exec_()\n"
   ]
  }
 ],
 "metadata": {
  "kernelspec": {
   "display_name": "base",
   "language": "python",
   "name": "python3"
  },
  "language_info": {
   "codemirror_mode": {
    "name": "ipython",
    "version": 3
   },
   "file_extension": ".py",
   "mimetype": "text/x-python",
   "name": "python",
   "nbconvert_exporter": "python",
   "pygments_lexer": "ipython3",
   "version": "3.8.8"
  }
 },
 "nbformat": 4,
 "nbformat_minor": 2
}
