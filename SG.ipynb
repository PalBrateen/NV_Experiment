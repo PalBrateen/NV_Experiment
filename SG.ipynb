{
 "cells": [
  {
   "cell_type": "code",
   "execution_count": 1,
   "metadata": {},
   "outputs": [],
   "source": [
    "import WDcontrol as wdctrl, numpy as np, time"
   ]
  },
  {
   "cell_type": "code",
   "execution_count": 2,
   "metadata": {},
   "outputs": [
    {
     "name": "stdout",
     "output_type": "stream",
     "text": [
      "SerialInstrument at asrl3::instr\n"
     ]
    }
   ],
   "source": [
    "wd = wdctrl.initSG()\n",
    "print(wd)"
   ]
  },
  {
   "cell_type": "code",
   "execution_count": 8,
   "metadata": {},
   "outputs": [],
   "source": [
    "wdctrl.set_SG_freq(wd, 1000)"
   ]
  },
  {
   "cell_type": "code",
   "execution_count": 3,
   "metadata": {},
   "outputs": [
    {
     "data": {
      "text/plain": [
       "array([ 800.,  820.,  840.,  860.,  880.,  900.,  920.,  940.,  960.,\n",
       "        980., 1000.])"
      ]
     },
     "execution_count": 3,
     "metadata": {},
     "output_type": "execute_result"
    }
   ],
   "source": [
    "freq = np.linspace(800, 1000, 11, endpoint=True)\n",
    "freq"
   ]
  },
  {
   "cell_type": "code",
   "execution_count": 6,
   "metadata": {},
   "outputs": [],
   "source": [
    "wdctrl.disable_SG_op(wd)"
   ]
  },
  {
   "cell_type": "code",
   "execution_count": 5,
   "metadata": {},
   "outputs": [],
   "source": [
    "# freq[1]\n",
    "wdctrl.enable_SG_op(wd)\n",
    "wdctrl.set_SG_freq(wd, 600)"
   ]
  },
  {
   "cell_type": "code",
   "execution_count": 10,
   "metadata": {},
   "outputs": [],
   "source": [
    "wdctrl.enable_SG_op(wd)"
   ]
  },
  {
   "cell_type": "code",
   "execution_count": 11,
   "metadata": {},
   "outputs": [
    {
     "name": "stdout",
     "output_type": "stream",
     "text": [
      "800.0\n",
      "820.0\n"
     ]
    }
   ],
   "source": [
    "wdctrl.enable_SG_op(wd)\n",
    "wdctrl.set_SG_freq(wd, 600.0); time.sleep(5)\n",
    "for i in range(0,2):\n",
    "    print(freq[i])\n",
    "    wdctrl.disable_SG_op(wd);\n",
    "    time.sleep(5)\n",
    "    wdctrl.enable_SG_op(wd);\n",
    "    wdctrl.set_SG_freq(wd, freq[i]);\n",
    "    time.sleep(5)\n",
    "    "
   ]
  }
 ],
 "metadata": {
  "kernelspec": {
   "display_name": "base",
   "language": "python",
   "name": "python3"
  },
  "language_info": {
   "codemirror_mode": {
    "name": "ipython",
    "version": 3
   },
   "file_extension": ".py",
   "mimetype": "text/x-python",
   "name": "python",
   "nbconvert_exporter": "python",
   "pygments_lexer": "ipython3",
   "version": "3.8.16"
  }
 },
 "nbformat": 4,
 "nbformat_minor": 2
}
