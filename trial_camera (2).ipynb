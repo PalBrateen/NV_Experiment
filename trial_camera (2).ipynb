{
 "cells": [
  {
   "cell_type": "markdown",
   "metadata": {},
   "source": [
    "Using the library from Hamamatsu"
   ]
  },
  {
   "cell_type": "code",
   "execution_count": null,
   "metadata": {},
   "outputs": [],
   "source": [
    "import asyncio\n",
    " \n",
    " \n",
    "async def func1():\n",
    "    print(\"Function 1 started..\")\n",
    "    await asyncio.sleep(2)\n",
    "    print(\"Function 1 Ended\")\n",
    " \n",
    " \n",
    "async def func2():\n",
    "    print(\"Function 2 started..\")\n",
    "    await asyncio.sleep(3)\n",
    "    print(\"Function 2 Ended\")\n",
    " \n",
    " \n",
    "async def func3():\n",
    "    print(\"Function 3 started..\")\n",
    "    await asyncio.sleep(1)\n",
    "    print(\"Function 3 Ended\")\n",
    " \n",
    " \n",
    "async def main():\n",
    "    L = await asyncio.gather(\n",
    "        func1(),\n",
    "        func2(),\n",
    "        func3(),\n",
    "    )\n",
    "    print(\"Main Ended..\")\n",
    " \n",
    " \n",
    "asyncio.run(main())\n",
    " "
   ]
  },
  {
   "cell_type": "markdown",
   "metadata": {},
   "source": [
    "Using Asyncio"
   ]
  },
  {
   "cell_type": "code",
   "execution_count": 1,
   "metadata": {},
   "outputs": [],
   "source": [
    "import asyncio, time\n",
    "async def loop():\n",
    "    print(\"Printing numbers\")\n",
    "    for i in range(0,100):\n",
    "        print(i)\n",
    "        time.sleep(1)"
   ]
  },
  {
   "cell_type": "code",
   "execution_count": 2,
   "metadata": {},
   "outputs": [
    {
     "name": "stdout",
     "output_type": "stream",
     "text": [
      "In the entrypoint coroutine.\n",
      "Hello, asyncio!\n"
     ]
    }
   ],
   "source": [
    "import asyncio\n",
    "async def coro_func():\n",
    "    print(\"Hello, asyncio!\")\n",
    "\n",
    "# to run the code defined in a coroutine function, you need to await it...\n",
    "# However, you can’t await it in the same way as you iterate a generator. A coroutine can only be awaited inside another coroutine defined by the async def syntax:\n",
    "async def main():\n",
    "    print(\"In the entrypoint coroutine.\")\n",
    "    await coro_func()\n",
    "\n",
    "# How to run the main() coroutine?\n",
    "# For the top-level entry point coroutine function, which is normally named as main(), we need to use asyncio.run() to run it:\n",
    "# asyncio.run(main())\n",
    "\n",
    "# In your case, jupyter (IPython ≥ 7.0) is already running an event loop.\n",
    "# Therefore you don't need to start the event loop yourself and can instead call await main(url) directly, even if your code lies outside any asynchronous function.\n",
    "await main()"
   ]
  },
  {
   "cell_type": "code",
   "execution_count": 3,
   "metadata": {},
   "outputs": [
    {
     "name": "stdout",
     "output_type": "stream",
     "text": [
      "Sleeping 1 seconds.\n",
      "Sleeping 2 seconds.\n",
      "Sleeping 3 seconds.\n",
      "Took 6.03 seconds.\n"
     ]
    }
   ],
   "source": [
    "# Until now a single corountine.. Now multiple coroutines...\n",
    "# INCORRECT AWAITING\n",
    "\n",
    "import asyncio\n",
    "from datetime import datetime\n",
    "\n",
    "async def async_sleep(num):\n",
    "    print(f\"Sleeping {num} seconds.\")\n",
    "    await asyncio.sleep(num)    # asyncio.sleep() simulates IO blocking time\n",
    "\n",
    "async def main():\n",
    "    start = datetime.now()\n",
    "\n",
    "    for i in range(1, 4):\n",
    "        await async_sleep(i)\n",
    "    \n",
    "    duration = datetime.now() - start\n",
    "    print(f\"Took {duration.total_seconds():.2f} seconds.\")\n",
    "\n",
    "await main()"
   ]
  },
  {
   "cell_type": "code",
   "execution_count": 10,
   "metadata": {},
   "outputs": [
    {
     "name": "stdout",
     "output_type": "stream",
     "text": [
      "Sleeping 1 seconds.\n",
      "Sleeping 3 seconds.\n",
      "Sleeping 5 seconds.\n",
      "Sleeping 10 seconds.\n",
      "Done 1.\n",
      "Done 3.\n",
      "Done 5.\n",
      "Done 10.\n",
      "Took 10.00 seconds.\n"
     ]
    }
   ],
   "source": [
    "# To achieve concurrency, we need to run multiple coroutines with the async.gather() function - to run multiple awaitables concurrently\n",
    "\n",
    "import asyncio\n",
    "from datetime import datetime\n",
    "\n",
    "async def async_sleep(num):\n",
    "    print(f\"Sleeping {num} seconds.\")\n",
    "    await asyncio.sleep(num)    # simulating TO blocking time\n",
    "    print(f\"Done {num}.\")\n",
    "\n",
    "async def main():\n",
    "    start = datetime.now()\n",
    "\n",
    "    coro_objs = []\n",
    "    for i in [1,3,5,10]:\n",
    "        coro_objs.append(async_sleep(i))\n",
    "    \n",
    "    # await them together using gather(): unpack them into gather()\n",
    "    await asyncio.gather(*coro_objs)    # the starred expression is a feature that allows for the unpacking of elements from iterable like lists\n",
    "\n",
    "    duration = datetime.now() - start\n",
    "    print(f\"Took {duration.total_seconds():.2f} seconds.\")\n",
    "\n",
    "# asyncio.run(main())\n",
    "await main()"
   ]
  },
  {
   "cell_type": "code",
   "execution_count": 5,
   "metadata": {},
   "outputs": [
    {
     "data": {
      "text/plain": [
       "list"
      ]
     },
     "execution_count": 5,
     "metadata": {},
     "output_type": "execute_result"
    }
   ],
   "source": [
    "import asyncio\n",
    "async def async_sleep(num):\n",
    "    print(f\"Sleeping {num} seconds.\")\n",
    "    await asyncio.sleep(num)    # simulating IO blocking time\n",
    "\n",
    "coro_objs = []\n",
    "for i in range(1,4):\n",
    "    coro_objs.append(async_sleep(i))\n",
    "\n",
    "type(coro_objs)"
   ]
  },
  {
   "cell_type": "code",
   "execution_count": 7,
   "metadata": {},
   "outputs": [
    {
     "data": {
      "text/plain": [
       "asyncio.tasks._GatheringFuture"
      ]
     },
     "execution_count": 7,
     "metadata": {},
     "output_type": "execute_result"
    }
   ],
   "source": [
    "aw = asyncio.gather(*coro_objs)\n",
    "type(aw)"
   ]
  },
  {
   "cell_type": "markdown",
   "metadata": {},
   "source": [
    "Generator: can be used in multiprocessing to display the captured images live or acquired voltage live.\n",
    "\n",
    "The main adv being the two processes (acquisition and plotting) can run at different speeds"
   ]
  },
  {
   "cell_type": "code",
   "execution_count": 15,
   "metadata": {},
   "outputs": [
    {
     "data": {
      "text/plain": [
       "generator"
      ]
     },
     "execution_count": 15,
     "metadata": {},
     "output_type": "execute_result"
    }
   ],
   "source": [
    "# Generator is defined as a normal function\n",
    "# the 'return' is replaced by 'yield'\n",
    "def gen_func():\n",
    "    for i in range(0,10):\n",
    "        yield i     # this makes a generator\n",
    "\n",
    "generator_obj = gen_func()\n",
    "type(generator_obj)"
   ]
  },
  {
   "cell_type": "code",
   "execution_count": null,
   "metadata": {},
   "outputs": [],
   "source": [
    "# to get output from a generator, call next(<generator object>) to iterate\n",
    "next(generator_obj)"
   ]
  },
  {
   "cell_type": "code",
   "execution_count": 11,
   "metadata": {},
   "outputs": [],
   "source": [
    "from PyQt5 import QtCore, QtGui, QtWidgets\n",
    "import matplotlib.pyplot as plt"
   ]
  },
  {
   "cell_type": "markdown",
   "metadata": {},
   "source": [
    "\"Using Asyncio for camera acquisition\""
   ]
  },
  {
   "cell_type": "code",
   "execution_count": null,
   "metadata": {},
   "outputs": [],
   "source": [
    "import asyncio, matplotlib.pyplot as plt, sys, time\n",
    "from datetime import datetime\n",
    "from PyQt5 import QtCore, QtGui, QtWidgets\n",
    "\n",
    "class Ui_MainWindow(QtWidgets.QWidget):\n",
    "    def setupUi(self, MainWindow):\n",
    "        def __init__(self):\n",
    "            super().__init__()  # Call parent class constructor\n",
    "            self.setupUi(self)  # Call setupUi after object creation\n",
    "            self.show()  # Explicitly show the window (if __init__ exists)\n",
    "\n",
    "        MainWindow.resize(422, 255)\n",
    "        self.centralwidget = QtWidgets.QWidget(MainWindow)\n",
    " \n",
    "        self.pushButton = QtWidgets.QPushButton(self.centralwidget)\n",
    "        self.pushButton.setGeometry(QtCore.QRect(160, 130, 93, 28))\n",
    " \n",
    "        # For displaying confirmation message along with user's info.\n",
    "        self.label = QtWidgets.QLabel(self.centralwidget)   \n",
    "        self.label.setGeometry(QtCore.QRect(170, 40, 201, 111))\n",
    " \n",
    "        # Keeping the text of label empty initially.      \n",
    "        self.label.setText(\"\")    \n",
    "\n",
    "        MainWindow.setCentralWidget(self.centralwidget)\n",
    "        self.retranslateUi(MainWindow)\n",
    "        QtCore.QMetaObject.connectSlotsByName(MainWindow)\n",
    "        \n",
    " \n",
    "    def retranslateUi(self, MainWindow):\n",
    "        _translate = QtCore.QCoreApplication.translate\n",
    "        MainWindow.setWindowTitle(_translate(\"MainWindow\", \"MainWindow\"))\n",
    "        self.pushButton.setText(_translate(\"MainWindow\", \"Proceed\"))\n",
    "        self.pushButton.clicked.connect(self.takeinputs)\n",
    "\n",
    "    async def takeinputs(self):\n",
    "        exp_time=10;\n",
    "        while True:\n",
    "            exp_time, done2 = QtWidgets.QInputDialog.getInt(self, 'Exposure', 'Enter exposure time [ms]:',value=exp_time,min=1,max=10000)\n",
    "            if not done2:\n",
    "                plt.close(\"Set Exposure\")\n",
    "                QtCore.QCoreApplication.quit()\n",
    "                break\n",
    "\n",
    "async def loop():\n",
    "    print(\"Running task (loop)...\")\n",
    "    for i in range(0,100):\n",
    "        print(i)\n",
    "        # asyncio.sleep(1)\n",
    "\n",
    "async def main():\n",
    "    start = datetime.now()\n",
    "\n",
    "    print(\"Exposure set control active..\")\n",
    "    app = QtWidgets.QApplication(sys.argv)\n",
    "    MainWindow = QtWidgets.QMainWindow()\n",
    "    ui = Ui_MainWindow()\n",
    "\n",
    "    # Call setupUi directly before gather\n",
    "    ui.setupUi(MainWindow)\n",
    "\n",
    "    coro_objs = [loop()]  # Only include the actual coroutine (loop)\n",
    "    await asyncio.gather(*coro_objs)  # Gather only the coroutine\n",
    "\n",
    "    app.exec_()\n",
    "    app.quit()\n",
    "    duration = datetime.now() - start\n",
    "    print(f\"Took {duration.total_seconds():.2f} seconds.\")\n",
    "\n",
    "# asyncio.run(main())\n",
    "await main()\n"
   ]
  },
  {
   "cell_type": "code",
   "execution_count": 2,
   "metadata": {},
   "outputs": [
    {
     "name": "stdout",
     "output_type": "stream",
     "text": [
      "Exposure set control active...\n",
      "Exposure set...\n"
     ]
    }
   ],
   "source": [
    "import asyncio, matplotlib.pyplot as plt, sys, time\n",
    "from datetime import datetime\n",
    "from PyQt5 import QtCore, QtGui, QtWidgets\n",
    "\n",
    "class Ui_MainWindow(QtWidgets.QWidget):\n",
    "    def setupUi(self, MainWindow):\n",
    "        MainWindow.resize(422, 255)\n",
    "        self.centralwidget = QtWidgets.QWidget(MainWindow)\n",
    " \n",
    "        self.pushButton = QtWidgets.QPushButton(self.centralwidget)\n",
    "        self.pushButton.setGeometry(QtCore.QRect(160, 130, 93, 28))\n",
    " \n",
    "        # For displaying confirmation message along with user's info.\n",
    "        self.label = QtWidgets.QLabel(self.centralwidget)   \n",
    "        self.label.setGeometry(QtCore.QRect(170, 40, 201, 111))\n",
    " \n",
    "        # Keeping the text of label empty initially.      \n",
    "        self.label.setText(\"\")    \n",
    "\n",
    "        MainWindow.setCentralWidget(self.centralwidget)\n",
    "        self.retranslateUi(MainWindow)\n",
    "        QtCore.QMetaObject.connectSlotsByName(MainWindow)\n",
    "        \n",
    " \n",
    "    def retranslateUi(self, MainWindow):\n",
    "        _translate = QtCore.QCoreApplication.translate\n",
    "        MainWindow.setWindowTitle(_translate(\"MainWindow\", \"MainWindow\"))\n",
    "        self.pushButton.setText(_translate(\"MainWindow\", \"Proceed\"))\n",
    "        self.pushButton.clicked.connect(self.takeinputs)\n",
    "\n",
    "    def takeinputs(self):\n",
    "        exp_time=10;\n",
    "        while True:\n",
    "            exp_time, done2 = QtWidgets.QInputDialog.getInt(self, 'Exposure', 'Enter exposure time [ms]:',value=exp_time,min=1,max=10000)\n",
    "            if not done2:\n",
    "                QtCore.QCoreApplication.quit()\n",
    "                break\n",
    "\n",
    "def set_exposure():\n",
    "    print(\"Exposure set control active...\")\n",
    "    app = QtWidgets.QApplication(sys.argv)\n",
    "    MainWindow = QtWidgets.QMainWindow()\n",
    "    ui = Ui_MainWindow()\n",
    "    ui.setupUi(MainWindow)\n",
    "    MainWindow.show()\n",
    "    app.exec_()\n",
    "    app.quit()\n",
    "    print(\"Exposure set...\")\n",
    "\n",
    "if __name__ == \"__main__\":\n",
    "    set_exposure()"
   ]
  },
  {
   "cell_type": "code",
   "execution_count": 7,
   "metadata": {},
   "outputs": [
    {
     "data": {
      "text/plain": [
       "<matplotlib.image.AxesImage at 0x2184f657c10>"
      ]
     },
     "execution_count": 7,
     "metadata": {},
     "output_type": "execute_result"
    }
   ],
   "source": [
    "import numpy as np\n",
    "from skimage import io\n",
    "%matplotlib qt\n",
    "frame = np.random.randn(100,100)\n",
    "io.imshow(frame)"
   ]
  },
  {
   "cell_type": "code",
   "execution_count": 8,
   "metadata": {},
   "outputs": [
    {
     "name": "stdout",
     "output_type": "stream",
     "text": [
      "You Entered: 8  Counter is at: 95220582\n",
      "You Entered: 6  Counter is at: 137064590\n",
      "You Entered: 47  Counter is at: 186478798\n",
      "You Entered: 3  Counter is at: 215579857\n",
      "You Entered:   Counter is at: 232002039\n",
      "You Entered:   Counter is at: 291814248\n",
      "You Entered:   Counter is at: 320165043\n",
      "You Entered: q  Counter is at: 600816208\n",
      "You Entered:   Counter is at: 645697852\n",
      "You Entered:   Counter is at: 661882413\n",
      "You Entered:   Counter is at: 1244285126\n",
      "You Entered:   Counter is at: 1257992926\n",
      "You Entered:   Counter is at: 1277629345\n",
      "You Entered:   Counter is at: 1288869704\n",
      "You Entered:    Counter is at: 1316089586\n",
      "You Entered:   Counter is at: 1324296645\n",
      "You Entered:   Counter is at: 1331421702\n",
      "You Entered:   Counter is at: 1337229053\n",
      "You Entered:   Counter is at: 1341496825\n",
      "You Entered: "
     ]
    }
   ],
   "source": [
    "import threading\n",
    "\n",
    "class KeyboardThread(threading.Thread):\n",
    "\n",
    "    def __init__(self, input_cbk = None, name='keyboard-input-thread'):\n",
    "        self.input_cbk = input_cbk\n",
    "        super(KeyboardThread, self).__init__(name=name, daemon=True)\n",
    "        self.start()\n",
    "\n",
    "    def run(self):\n",
    "        while True:\n",
    "            self.input_cbk(input()) #waits to get input + Return\n",
    "\n",
    "showcounter = 0 #something to demonstrate the change\n",
    "\n",
    "def my_callback(inp):\n",
    "    #evaluate the keyboard input\n",
    "    print('You Entered:', inp, ' Counter is at:', showcounter)\n",
    "\n",
    "#start the Keyboard thread\n",
    "kthread = KeyboardThread(my_callback)\n",
    "\n",
    "while True:\n",
    "    #the normal program executes without blocking. here just counting up\n",
    "    showcounter += 1\n",
    "\n"
   ]
  },
  {
   "cell_type": "code",
   "execution_count": 1,
   "metadata": {},
   "outputs": [
    {
     "name": "stdout",
     "output_type": "stream",
     "text": [
      "Ready for keyboard input:\n",
      "input_str = e\n",
      "input_str = j\n",
      "input_str = \n",
      "input_str = \n",
      "input_str = \n",
      "input_str = l\n",
      "input_str = \n",
      "input_str = \n",
      "input_str = exit\n",
      "Exiting serial terminal.\n",
      "End.\n"
     ]
    }
   ],
   "source": [
    "\"\"\"\n",
    "https://stackoverflow.com/questions/5404068/how-to-read-keyboard-input/53344690#53344690\n",
    "\n",
    "read_keyboard_input.py\n",
    "\n",
    "Gabriel Staples\n",
    "www.ElectricRCAircraftGuy.com\n",
    "14 Nov. 2018\n",
    "\n",
    "References:\n",
    "- https://pyserial.readthedocs.io/en/latest/pyserial_api.html\n",
    "- *****https://www.tutorialspoint.com/python/python_multithreading.htm\n",
    "- *****https://en.wikibooks.org/wiki/Python_Programming/Threading\n",
    "- https://stackoverflow.com/questions/1607612/python-how-do-i-make-a-subclass-from-a-superclass\n",
    "- https://docs.python.org/3/library/queue.html\n",
    "- https://docs.python.org/3.7/library/threading.html\n",
    "\n",
    "To install PySerial: `sudo python3 -m pip install pyserial`\n",
    "\n",
    "To run this program: `python3 this_filename.py`\n",
    "\n",
    "\"\"\"\n",
    "\n",
    "import threading\n",
    "import queue\n",
    "import time\n",
    "\n",
    "def read_kbd_input(inputQueue):\n",
    "    print('Ready for keyboard input:')\n",
    "    while (True):\n",
    "        # Receive keyboard input from user.\n",
    "        input_str = input()\n",
    "        \n",
    "        # Enqueue this input string.\n",
    "        # Note: Lock not required here since we are only calling a single Queue method, not a sequence of them \n",
    "        # which would otherwise need to be treated as one atomic operation.\n",
    "        inputQueue.put(input_str)\n",
    "\n",
    "def main():\n",
    "\n",
    "    EXIT_COMMAND = \"exit\" # Command to exit this program\n",
    "\n",
    "    # The following threading lock is required only if you need to enforce atomic access to a chunk of multiple queue\n",
    "    # method calls in a row.  Use this if you have such a need, as follows:\n",
    "    # 1. Pass queueLock as an input parameter to whichever function requires it.\n",
    "    # 2. Call queueLock.acquire() to obtain the lock.\n",
    "    # 3. Do your series of queue calls which need to be treated as one big atomic operation, such as calling\n",
    "    # inputQueue.qsize(), followed by inputQueue.put(), for example.\n",
    "    # 4. Call queueLock.release() to release the lock.\n",
    "    # queueLock = threading.Lock() \n",
    "\n",
    "    #Keyboard input queue to pass data from the thread reading the keyboard inputs to the main thread.\n",
    "    inputQueue = queue.Queue()\n",
    "\n",
    "    # Create & start a thread to read keyboard inputs.\n",
    "    # Set daemon to True to auto-kill this thread when all other non-daemonic threads are exited. This is desired since\n",
    "    # this thread has no cleanup to do, which would otherwise require a more graceful approach to clean up then exit.\n",
    "    inputThread = threading.Thread(target=read_kbd_input, args=(inputQueue,), daemon=True)\n",
    "    inputThread.start()\n",
    "\n",
    "    # Main loop\n",
    "    while (True):\n",
    "\n",
    "        # Read keyboard inputs\n",
    "        # Note: if this queue were being read in multiple places we would need to use the queueLock above to ensure\n",
    "        # multi-method-call atomic access. Since this is the only place we are removing from the queue, however, in this\n",
    "        # example program, no locks are required.\n",
    "        if (inputQueue.qsize() > 0):\n",
    "            input_str = inputQueue.get()\n",
    "            print(\"input_str = {}\".format(input_str))\n",
    "\n",
    "            if (input_str == EXIT_COMMAND):\n",
    "                print(\"Exiting serial terminal.\")\n",
    "                break # exit the while loop\n",
    "            \n",
    "            # Insert your code here to do whatever you want with the input_str.\n",
    "\n",
    "        # The rest of your program goes here.\n",
    "\n",
    "        # Sleep for a short time to prevent this thread from sucking up all of your CPU resources on your PC.\n",
    "        time.sleep(0.01) \n",
    "    \n",
    "    print(\"End.\")\n",
    "\n",
    "# If you run this Python file directly (ex: via `python3 this_filename.py`), do the following:\n",
    "if (__name__ == '__main__'): \n",
    "    main()"
   ]
  },
  {
   "cell_type": "code",
   "execution_count": 36,
   "metadata": {},
   "outputs": [
    {
     "data": {
      "text/plain": [
       "True"
      ]
     },
     "execution_count": 36,
     "metadata": {},
     "output_type": "execute_result"
    }
   ],
   "source": [
    "import dcam\n",
    "\n",
    "dcam.Dcamapi.init()     # initialize DCAM-API"
   ]
  },
  {
   "cell_type": "code",
   "execution_count": 15,
   "metadata": {},
   "outputs": [
    {
     "data": {
      "text/plain": [
       "1"
      ]
     },
     "execution_count": 15,
     "metadata": {},
     "output_type": "execute_result"
    }
   ],
   "source": [
    "dcam.Dcamapi.get_devicecount()"
   ]
  },
  {
   "cell_type": "code",
   "execution_count": 16,
   "metadata": {},
   "outputs": [],
   "source": [
    "hdcam = dcam.Dcam(0)"
   ]
  },
  {
   "cell_type": "code",
   "execution_count": 28,
   "metadata": {},
   "outputs": [
    {
     "data": {
      "text/plain": [
       "'C13440-20CU'"
      ]
     },
     "execution_count": 28,
     "metadata": {},
     "output_type": "execute_result"
    }
   ],
   "source": [
    "hdcam.dev_getstring(dcam.DCAM_IDSTR.MODEL)"
   ]
  },
  {
   "cell_type": "code",
   "execution_count": 21,
   "metadata": {},
   "outputs": [
    {
     "data": {
      "text/plain": [
       "'S/N: 303200'"
      ]
     },
     "execution_count": 21,
     "metadata": {},
     "output_type": "execute_result"
    }
   ],
   "source": [
    "hdcam.dev_getstring(dcam.DCAM_IDSTR.CAMERAID)"
   ]
  },
  {
   "cell_type": "code",
   "execution_count": 27,
   "metadata": {},
   "outputs": [
    {
     "data": {
      "text/plain": [
       "True"
      ]
     },
     "execution_count": 27,
     "metadata": {},
     "output_type": "execute_result"
    }
   ],
   "source": [
    "hdcam.dev_close()"
   ]
  },
  {
   "cell_type": "code",
   "execution_count": 29,
   "metadata": {},
   "outputs": [
    {
     "data": {
      "text/plain": [
       "True"
      ]
     },
     "execution_count": 29,
     "metadata": {},
     "output_type": "execute_result"
    }
   ],
   "source": [
    "hdcam.dev_open()"
   ]
  },
  {
   "cell_type": "code",
   "execution_count": 30,
   "metadata": {},
   "outputs": [],
   "source": [
    "idprop = hdcam.prop_getnextid(0)"
   ]
  },
  {
   "cell_type": "code",
   "execution_count": 33,
   "metadata": {},
   "outputs": [
    {
     "data": {
      "text/plain": [
       "'SENSOR MODE'"
      ]
     },
     "execution_count": 33,
     "metadata": {},
     "output_type": "execute_result"
    }
   ],
   "source": [
    "propname = hdcam.prop_getname(idprop)\n",
    "propname"
   ]
  },
  {
   "cell_type": "code",
   "execution_count": 34,
   "metadata": {},
   "outputs": [
    {
     "ename": "AttributeError",
     "evalue": "module 'dcam' has no attribute 'Dcampi'",
     "output_type": "error",
     "traceback": [
      "\u001b[1;31m---------------------------------------------------------------------------\u001b[0m",
      "\u001b[1;31mAttributeError\u001b[0m                            Traceback (most recent call last)",
      "\u001b[1;32m<ipython-input-34-a4b8ef610c27>\u001b[0m in \u001b[0;36m<module>\u001b[1;34m\u001b[0m\n\u001b[1;32m----> 1\u001b[1;33m \u001b[0mdcam\u001b[0m\u001b[1;33m.\u001b[0m\u001b[0mDcampi\u001b[0m\u001b[1;33m.\u001b[0m\u001b[0muninit\u001b[0m\u001b[1;33m(\u001b[0m\u001b[1;33m)\u001b[0m\u001b[1;33m\u001b[0m\u001b[1;33m\u001b[0m\u001b[0m\n\u001b[0m",
      "\u001b[1;31mAttributeError\u001b[0m: module 'dcam' has no attribute 'Dcampi'"
     ]
    }
   ],
   "source": [
    "hdcam.Dcampi.uninit()"
   ]
  },
  {
   "cell_type": "markdown",
   "metadata": {},
   "source": [
    "#### Using dcamcon"
   ]
  },
  {
   "cell_type": "code",
   "execution_count": 5,
   "metadata": {},
   "outputs": [
    {
     "name": "stdout",
     "output_type": "stream",
     "text": [
      "Calling Dcamapi.init()\n",
      "DCAM-API Init'd..\n",
      "#[0]: MODEL=C13440-20C, CAMERAID=S/N: 303200, BUS=AS-FBD-1XCLD-2PE4L\n",
      "<class 'dcamcon.Dcamcon'>\n"
     ]
    }
   ],
   "source": [
    "import dcamcon\n",
    "dcamcon.dcamcon_init()\n",
    "hdcamcon = dcamcon.dcamcon_choose_and_open()       # call this hdcamcon (dcamcon handle) instead of hdcam (dcam handle in doc)\n",
    "print(type(hdcamcon))"
   ]
  },
  {
   "cell_type": "code",
   "execution_count": 7,
   "metadata": {},
   "outputs": [
    {
     "data": {
      "text/plain": [
       "'ORCA-Flash4.0 V3'"
      ]
     },
     "execution_count": 7,
     "metadata": {},
     "output_type": "execute_result"
    }
   ],
   "source": [
    "hdcamcon.dcam.dev_getstring(dcamcon.DCAM_IDSTR.CAMERA_SERIESNAME)"
   ]
  },
  {
   "cell_type": "code",
   "execution_count": 8,
   "metadata": {},
   "outputs": [
    {
     "data": {
      "text/plain": [
       "'#[0]: MODEL=C13440-20C, CAMERAID=S/N: 303200, BUS=AS-FBD-1XCLD-2PE4L'"
      ]
     },
     "execution_count": 8,
     "metadata": {},
     "output_type": "execute_result"
    }
   ],
   "source": [
    "dcamcon.dcamcon_list[0].device_title\n",
    "# hdcam is the dcamcon.dcamcon_list[0] done inside dcamcon_choose_and_open()"
   ]
  },
  {
   "cell_type": "code",
   "execution_count": 10,
   "metadata": {},
   "outputs": [
    {
     "name": "stdout",
     "output_type": "stream",
     "text": [
      "ORCA-Flash4.0 V3\n",
      "C13440-20C\n"
     ]
    }
   ],
   "source": [
    "# get the device strings: TARGET DCAM device\n",
    "print(hdcamcon.dcam.dev_getstring(idstr=dcamcon.DCAM_IDSTR.CAMERA_SERIESNAME))\n",
    "print(hdcamcon.dcam.dev_getstring(idstr=dcamcon.DCAM_IDSTR.MODEL))"
   ]
  },
  {
   "cell_type": "code",
   "execution_count": 12,
   "metadata": {},
   "outputs": [
    {
     "name": "stdout",
     "output_type": "stream",
     "text": [
      "1.0\n",
      "0.009997714285714285\n"
     ]
    }
   ],
   "source": [
    "# get the value of DCAM_IDPROP using the DCAMCON functions (not DCAM directly)\n",
    "print(hdcamcon.get_propertyvalue(propid=dcamcon.DCAM_IDPROP.TRIGGER_MODE))\n",
    "print(hdcamcon.get_propertyvalue(propid=dcamcon.DCAM_IDPROP.EXPOSURETIME))"
   ]
  },
  {
   "cell_type": "markdown",
   "metadata": {},
   "source": [
    "##### Setting ROI!!"
   ]
  },
  {
   "cell_type": "code",
   "execution_count": 19,
   "metadata": {},
   "outputs": [
    {
     "name": "stdout",
     "output_type": "stream",
     "text": [
      "2.0\n"
     ]
    }
   ],
   "source": [
    "print(hdcamcon.setget_propertyvalue(propid=dcamcon.DCAM_IDPROP.SUBARRAYMODE,val=dcamcon.DCAMPROP.MODE.ON))"
   ]
  },
  {
   "cell_type": "markdown",
   "metadata": {},
   "source": [
    "###### setting subarray is not straightforward..."
   ]
  },
  {
   "cell_type": "code",
   "execution_count": 21,
   "metadata": {},
   "outputs": [
    {
     "name": "stdout",
     "output_type": "stream",
     "text": [
      "-NG: Dcam.prop_setvalue(SUBARRAYHPOS, 100) failed with error INVALIDSUBARRAY\n",
      "False\n"
     ]
    }
   ],
   "source": [
    "print(hdcamcon.set_propertyvalue(propid=dcamcon.DCAM_IDPROP.SUBARRAYHPOS,val=100))"
   ]
  },
  {
   "cell_type": "code",
   "execution_count": 41,
   "metadata": {},
   "outputs": [],
   "source": [
    "propattr_offset = hdcamcon.dcam.prop_getattr(dcamcon.DCAM_IDPROP.SUBARRAYHPOS)"
   ]
  },
  {
   "cell_type": "code",
   "execution_count": 45,
   "metadata": {},
   "outputs": [],
   "source": [
    "propattr_size = hdcamcon.dcam.prop_getattr(dcamcon.DCAM_IDPROP.SUBARRAYHSIZE)"
   ]
  },
  {
   "cell_type": "code",
   "execution_count": 51,
   "metadata": {},
   "outputs": [
    {
     "data": {
      "text/plain": [
       "True"
      ]
     },
     "execution_count": 51,
     "metadata": {},
     "output_type": "execute_result"
    }
   ],
   "source": [
    "is_offset_available = (propattr_offset.attribute & dcamcon.DCAM_PROP.ATTR.EFFECTIVE and\n",
    "                                       propattr_offset.attribute & dcamcon.DCAM_PROP.ATTR.WRITABLE and\n",
    "                                       propattr_offset.valuemin != propattr_offset.valuemax)"
   ]
  },
  {
   "cell_type": "code",
   "execution_count": 53,
   "metadata": {},
   "outputs": [],
   "source": [
    "is_size_available = (propattr_size.attribute & dcamcon.DCAM_PROP.ATTR.EFFECTIVE and\n",
    "                                     propattr_size.attribute & dcamcon.DCAM_PROP.ATTR.WRITABLE and\n",
    "                                     propattr_size.valuemin != propattr_size.valuemax)"
   ]
  },
  {
   "cell_type": "code",
   "execution_count": 25,
   "metadata": {},
   "outputs": [
    {
     "data": {
      "text/plain": [
       "True"
      ]
     },
     "execution_count": 25,
     "metadata": {},
     "output_type": "execute_result"
    }
   ],
   "source": [
    "# using set_propertyvalue(): set a value of DCAM_IDPROP using the DCAMCON functions (not DCAM directly)\n",
    "hdcamcon.set_propertyvalue(propid=dcamcon.DCAM_IDPROP.EXPOSURETIME, val=0.1)"
   ]
  },
  {
   "cell_type": "code",
   "execution_count": 29,
   "metadata": {},
   "outputs": [
    {
     "data": {
      "text/plain": [
       "0.05000806015037594"
      ]
     },
     "execution_count": 29,
     "metadata": {},
     "output_type": "execute_result"
    }
   ],
   "source": [
    "# using setget_propertyvalue(): set a value of DCAM_IDPROP using the DCAMCON functions (not DCAM directly)\n",
    "hdcamcon.setget_propertyvalue(propid=dcamcon.DCAM_IDPROP.EXPOSURETIME, val=0.05)"
   ]
  },
  {
   "cell_type": "code",
   "execution_count": 6,
   "metadata": {},
   "outputs": [
    {
     "name": "stdout",
     "output_type": "stream",
     "text": [
      "DCAM-API uninit'd..\n"
     ]
    }
   ],
   "source": [
    "# when closing camera software by calling dcamcon_uninit()\n",
    "# the function closes the camera by calling my.close() (calls self.dcam.dev_close())\n",
    "# the function also calls Dcamapi.uninit()\n",
    "\n",
    "dcamcon.dcamcon_uninit()"
   ]
  },
  {
   "cell_type": "code",
   "execution_count": 66,
   "metadata": {},
   "outputs": [
    {
     "name": "stdout",
     "output_type": "stream",
     "text": [
      "-NG: Dcam.buf_alloc(100) failed with error NOTSTABLE\n",
      "Buffer not allocated..\n"
     ]
    }
   ],
   "source": [
    "if not hdcam.allocbuffer(100):\n",
    "    print(\"Buffer not allocated..\")\n",
    "    "
   ]
  },
  {
   "cell_type": "code",
   "execution_count": 42,
   "metadata": {},
   "outputs": [
    {
     "ename": "AttributeError",
     "evalue": "value",
     "output_type": "error",
     "traceback": [
      "\u001b[1;31m---------------------------------------------------------------------------\u001b[0m",
      "\u001b[1;31mAttributeError\u001b[0m                            Traceback (most recent call last)",
      "\u001b[1;32m<ipython-input-42-f101ac120544>\u001b[0m in \u001b[0;36m<module>\u001b[1;34m\u001b[0m\n\u001b[1;32m----> 1\u001b[1;33m \u001b[0mhdcam\u001b[0m\u001b[1;33m.\u001b[0m\u001b[0mget_propertyvalue\u001b[0m\u001b[1;33m(\u001b[0m\u001b[0mpropid\u001b[0m\u001b[1;33m=\u001b[0m\u001b[0mdcamcon\u001b[0m\u001b[1;33m.\u001b[0m\u001b[0mDCAMCAP_STATUS\u001b[0m\u001b[1;33m)\u001b[0m\u001b[1;33m\u001b[0m\u001b[1;33m\u001b[0m\u001b[0m\n\u001b[0m",
      "\u001b[1;32md:\\Brateen\\Python_codes\\qdSpectro-active\\NV_Experiment\\New folder\\hamamatsu\\dcamcon.py\u001b[0m in \u001b[0;36mget_propertyvalue\u001b[1;34m(self, propid, showerrmsg)\u001b[0m\n\u001b[0;32m    296\u001b[0m             \u001b[1;32mreturn\u001b[0m \u001b[1;32mFalse\u001b[0m\u001b[1;33m\u001b[0m\u001b[1;33m\u001b[0m\u001b[0m\n\u001b[0;32m    297\u001b[0m \u001b[1;33m\u001b[0m\u001b[0m\n\u001b[1;32m--> 298\u001b[1;33m         \u001b[0mpropvalue\u001b[0m \u001b[1;33m=\u001b[0m \u001b[0mself\u001b[0m\u001b[1;33m.\u001b[0m\u001b[0mdcam\u001b[0m\u001b[1;33m.\u001b[0m\u001b[0mprop_getvalue\u001b[0m\u001b[1;33m(\u001b[0m\u001b[0mpropid\u001b[0m\u001b[1;33m.\u001b[0m\u001b[0mvalue\u001b[0m\u001b[1;33m)\u001b[0m\u001b[1;33m\u001b[0m\u001b[1;33m\u001b[0m\u001b[0m\n\u001b[0m\u001b[0;32m    299\u001b[0m         \u001b[1;32mif\u001b[0m \u001b[0mpropvalue\u001b[0m \u001b[1;32mis\u001b[0m \u001b[1;32mFalse\u001b[0m\u001b[1;33m:\u001b[0m\u001b[1;33m\u001b[0m\u001b[1;33m\u001b[0m\u001b[0m\n\u001b[0;32m    300\u001b[0m             \u001b[1;32mif\u001b[0m \u001b[0mshowerrmsg\u001b[0m\u001b[1;33m:\u001b[0m\u001b[1;33m\u001b[0m\u001b[1;33m\u001b[0m\u001b[0m\n",
      "\u001b[1;32mc:\\ProgramData\\Anaconda3\\lib\\enum.py\u001b[0m in \u001b[0;36m__getattr__\u001b[1;34m(cls, name)\u001b[0m\n\u001b[0;32m    382\u001b[0m             \u001b[1;32mreturn\u001b[0m \u001b[0mcls\u001b[0m\u001b[1;33m.\u001b[0m\u001b[0m_member_map_\u001b[0m\u001b[1;33m[\u001b[0m\u001b[0mname\u001b[0m\u001b[1;33m]\u001b[0m\u001b[1;33m\u001b[0m\u001b[1;33m\u001b[0m\u001b[0m\n\u001b[0;32m    383\u001b[0m         \u001b[1;32mexcept\u001b[0m \u001b[0mKeyError\u001b[0m\u001b[1;33m:\u001b[0m\u001b[1;33m\u001b[0m\u001b[1;33m\u001b[0m\u001b[0m\n\u001b[1;32m--> 384\u001b[1;33m             \u001b[1;32mraise\u001b[0m \u001b[0mAttributeError\u001b[0m\u001b[1;33m(\u001b[0m\u001b[0mname\u001b[0m\u001b[1;33m)\u001b[0m \u001b[1;32mfrom\u001b[0m \u001b[1;32mNone\u001b[0m\u001b[1;33m\u001b[0m\u001b[1;33m\u001b[0m\u001b[0m\n\u001b[0m\u001b[0;32m    385\u001b[0m \u001b[1;33m\u001b[0m\u001b[0m\n\u001b[0;32m    386\u001b[0m     \u001b[1;32mdef\u001b[0m \u001b[0m__getitem__\u001b[0m\u001b[1;33m(\u001b[0m\u001b[0mcls\u001b[0m\u001b[1;33m,\u001b[0m \u001b[0mname\u001b[0m\u001b[1;33m)\u001b[0m\u001b[1;33m:\u001b[0m\u001b[1;33m\u001b[0m\u001b[1;33m\u001b[0m\u001b[0m\n",
      "\u001b[1;31mAttributeError\u001b[0m: value"
     ]
    }
   ],
   "source": [
    "hdcam.get_propertyvalue(propid=dcamcon.DCAMCAP_STATUS)\n",
    "# DCAMCAP_STATUS is not a property.. hence this call is not valid.."
   ]
  },
  {
   "cell_type": "code",
   "execution_count": 73,
   "metadata": {},
   "outputs": [
    {
     "data": {
      "text/plain": [
       "1.0"
      ]
     },
     "execution_count": 73,
     "metadata": {},
     "output_type": "execute_result"
    }
   ],
   "source": [
    "hdcam.get_propertyvalue(dcamcon.DCAM_IDPROP.TRIGGERSOURCE)"
   ]
  },
  {
   "cell_type": "code",
   "execution_count": 72,
   "metadata": {},
   "outputs": [
    {
     "name": "stdout",
     "output_type": "stream",
     "text": [
      "[1, 2, 3, 4]\n",
      "[<TRIGGERSOURCE.INTERNAL: 1>, <TRIGGERSOURCE.EXTERNAL: 2>, <TRIGGERSOURCE.SOFTWARE: 3>, <TRIGGERSOURCE.MASTERPULSE: 4>]\n"
     ]
    },
    {
     "data": {
      "text/plain": [
       "<TRIGGERSOURCE.SOFTWARE: 3>"
      ]
     },
     "execution_count": 72,
     "metadata": {},
     "output_type": "execute_result"
    }
   ],
   "source": [
    "# the way to get the correct 'enum's for a specific property..\n",
    "print(list(map(int, dcamcon.DCAMPROP.TRIGGERSOURCE)))\n",
    "print(list(dcamcon.DCAMPROP.TRIGGERSOURCE))\n",
    "dcamcon.DCAMPROP.TRIGGERSOURCE.SOFTWARE"
   ]
  },
  {
   "cell_type": "code",
   "execution_count": 71,
   "metadata": {},
   "outputs": [
    {
     "data": {
      "text/plain": [
       "<dcamcon.Dcamcon at 0x15599456640>"
      ]
     },
     "execution_count": 71,
     "metadata": {},
     "output_type": "execute_result"
    }
   ],
   "source": [
    "hdcam"
   ]
  },
  {
   "cell_type": "code",
   "execution_count": 75,
   "metadata": {},
   "outputs": [],
   "source": [
    "import cv2, screeninfo\n",
    "if not hdcam.startcapture(is_sequence=False):\n",
    "    # dcamcon.allocbuffer() should have succeeded\n",
    "    hdcam.releasebuffer()\n",
    "    # return \n",
    "\n",
    "def show_framedata(camera_title, data):\n",
    "    \"\"\"Show image data.\n",
    "    Open window of OpenCV with camera_title.\n",
    "    Show numpy buffer as an image with OpenCV.\n",
    "\n",
    "    Args:\n",
    "        camera_title (string): for OpenCV window title\n",
    "        data (Numpy ndarray): numpy buffer stored image\n",
    "    \"\"\"\n",
    "\n",
    "    global cv_window_status\n",
    "    if cv_window_status > 0:    # was the window created and open?\n",
    "        cv_window_status = cv2.getWindowProperty(camera_title, 0)\n",
    "        if cv_window_status == 0:   # if it is still open\n",
    "            cv_window_status = 1    # mark it as still open again\n",
    "    \n",
    "    if cv_window_status >= 0:    # see if the window is not created yet or created and open\n",
    "        maxval = np.amax(data)\n",
    "        if data.dtype == np.uint16:\n",
    "            if maxval > 0:\n",
    "                imul = int(65535 / maxval)\n",
    "                data = data * imul\n",
    "        \n",
    "        if cv_window_status == 0:\n",
    "            # OpenCV window is not created yet\n",
    "            cv2.namedWindow(camera_title, cv2.WINDOW_NORMAL | cv2.WINDOW_KEEPRATIO | cv2.WINDOW_GUI_NORMAL)\n",
    "\n",
    "            # resize display window\n",
    "            data_width = data.shape[1]\n",
    "            data_height = data.shape[0]\n",
    "\n",
    "            window_pos_left = 156\n",
    "            window_pos_top = 48\n",
    "\n",
    "            screeninfos = screeninfo.get_monitors()\n",
    "\n",
    "            max_width = screeninfos[0].width - (window_pos_left * 2)\n",
    "            max_height = screeninfos[0].height - (window_pos_top * 2)\n",
    "\n",
    "            if data_width > max_width:\n",
    "                scale_X100 = int(100 * max_width / data_width)\n",
    "            else:\n",
    "                scale_X100 = 100\n",
    "            \n",
    "            if data_height > max_height:\n",
    "                scale_Y100 = int(100 * max_height / data_height)\n",
    "            else:\n",
    "                scale_Y100 = 100\n",
    "            \n",
    "            if scale_X100 < scale_Y100:\n",
    "                scale_100 = scale_X100\n",
    "            else:\n",
    "                scale_100 = scale_Y100\n",
    "            \n",
    "            disp_width = int(data_width * scale_100 * 0.01)\n",
    "            disp_height = int(data_height * scale_100 * 0.01)\n",
    "\n",
    "            cv2.resizeWindow(camera_title, disp_width, disp_height)\n",
    "            # end of resize\n",
    "\n",
    "            cv2.moveWindow(camera_title, window_pos_left, window_pos_top)\n",
    "            cv_window_status = 1\n",
    "        \n",
    "        cv2.imshow(camera_title, data)\n",
    "        key = cv2.waitKey(1)\n",
    "        if key == ord('q') or key == ord('Q'):  # if 'q' or 'Q' was pressed with the live window, close it\n",
    "            cv_window_status = -1\n",
    "        \n",
    "\n",
    "timeout_millisec=500\n",
    "global cv_window_status\n",
    "cv_window_status = 1\n",
    "while cv_window_status >= 0:\n",
    "    res = hdcam.wait_capevent_frameready(timeout_millisec)\n",
    "    # if res is not True:\n",
    "    #     # frame does not come\n",
    "    #     if res != DCAMERR.TIMEOUT:\n",
    "    #         print('-NG: Dcam.wait_event() failed with error {}'.format(res))\n",
    "    #         break\n",
    "\n",
    "    #     # TIMEOUT error happens\n",
    "    #     timeout_happened += 1\n",
    "    #     if timeout_happened == 1:\n",
    "    #         print('Waiting for a frame to arrive.', end='')\n",
    "    #         if triggersource == DCAMPROP.TRIGGERSOURCE.EXTERNAL:\n",
    "    #             print(' Check your trigger source.', end ='')\n",
    "    #         else:\n",
    "    #             print(' Check your <timeout_millisec> calculation in the code.', end='')\n",
    "    #         print(' Press Ctrl+C to abort.')\n",
    "    #     else:\n",
    "    #         print('.')\n",
    "    #         if timeout_happened > 5:\n",
    "    #             timeout_happened = 0\n",
    "        \n",
    "    #     continue\n",
    "\n",
    "    # wait_capevent_frameready() succeeded\n",
    "    lastdata = hdcam.get_lastframedata()\n",
    "    if lastdata is not False:\n",
    "        show_framedata('Capture', lastdata)\n",
    "    \n",
    "    timeout_happened = 0\n",
    "\n",
    "# End live\n",
    "cv2.destroyAllWindows()"
   ]
  },
  {
   "cell_type": "code",
   "execution_count": null,
   "metadata": {},
   "outputs": [],
   "source": [
    "import cv2\n",
    "if dcam.cap_start() is not False:\n",
    "    timeout_milisec = 100\n",
    "    cv2.namedWindow('test', cv2.WINDOW_NORMAL | cv2.WINDOW_KEEPRATIO | cv2.WINDOW_GUI_NORMAL)\n",
    "    cv2.resizeWindow('test', 700, 700)\n",
    "    iWindowStatus = 0\n",
    "    while iWindowStatus >= 0:\n",
    "        if dcam.wait_capevent_frameready(timeout_milisec) is not False:\n",
    "            data = dcam.buf_getlastframedata()\n",
    "            \n",
    "        else:\n",
    "            dcamerr = dcam.lasterr()\n",
    "            if dcamerr.is_timeout():\n",
    "                print('===: timeout')\n",
    "            else:\n",
    "                print('-NG: Dcam.wait_event() fails with error {}'.format(dcamerr))\n",
    "                break\n",
    "\n",
    "        key = cv2.waitKey(1)\n",
    "        if key == ord('q') or key == ord('Q') or key == 32:  # if 'q' was pressed with the live window, close it\n",
    "            break\n",
    "    cv2.destroyAllWindows()\n",
    "    dcam.cap_stop()"
   ]
  },
  {
   "cell_type": "code",
   "execution_count": 2,
   "metadata": {},
   "outputs": [
    {
     "name": "stdout",
     "output_type": "stream",
     "text": [
      "c:\\ProgramData\\Anaconda3\\lib\\site-packages\\numpy\\__init__.py\n"
     ]
    }
   ],
   "source": [
    "import numpy as np\n",
    "\n",
    "print(np.__file__)"
   ]
  },
  {
   "cell_type": "code",
   "execution_count": null,
   "metadata": {},
   "outputs": [],
   "source": [
    "import threading\n",
    "import time\n",
    "\n",
    "# Dummy function to simulate camera behavior\n",
    "def camera_acquire_frame(trigger_event, num_frames):\n",
    "    frames_acquired = 0\n",
    "    while frames_acquired < num_frames:\n",
    "        trigger_event.wait()  # Wait for the trigger event to be set\n",
    "        print(f\"Camera: Acquiring frame {frames_acquired + 1}\")\n",
    "        frames_acquired += 1\n",
    "        trigger_event.clear()  # Reset the event to wait for the next pulse\n",
    "\n",
    "# Main function to handle pulse generation and camera acquisition\n",
    "def main():\n",
    "    num_frames = 10\n",
    "    pulse_interval = 0.5  # Adjust as needed\n",
    "\n",
    "    # Event object to signal between threads\n",
    "    trigger_event = threading.Event()\n",
    "\n",
    "    # Create and start the camera thread\n",
    "    camera_thread = threading.Thread(target=camera_acquire_frame, args=(trigger_event, num_frames))\n",
    "    camera_thread.start()\n",
    "\n",
    "    # Main thread handling pulse generation\n",
    "    for pulse in range(num_frames):\n",
    "        time.sleep(pulse_interval)  # Simulate time between pulses\n",
    "        print(f\"Pulse Generator (Main Thread): Sending pulse {pulse + 1}\")\n",
    "        trigger_event.set()  # Set the event to trigger the camera\n",
    "        trigger_event.clear()\n",
    "\n",
    "    # Wait for the camera thread to complete\n",
    "    camera_thread.join()\n",
    "\n",
    "    print(\"Acquisition complete\")\n",
    "\n",
    "if __name__ == \"__main__\":\n",
    "    main()\n"
   ]
  }
 ],
 "metadata": {
  "kernelspec": {
   "display_name": "base",
   "language": "python",
   "name": "python3"
  },
  "language_info": {
   "codemirror_mode": {
    "name": "ipython",
    "version": 3
   },
   "file_extension": ".py",
   "mimetype": "text/x-python",
   "name": "python",
   "nbconvert_exporter": "python",
   "pygments_lexer": "ipython3",
   "version": "3.8.8"
  }
 },
 "nbformat": 4,
 "nbformat_minor": 2
}
