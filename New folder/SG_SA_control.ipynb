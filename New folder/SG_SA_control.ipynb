{
 "cells": [
  {
   "cell_type": "code",
   "execution_count": 1,
   "id": "3b679437",
   "metadata": {},
   "outputs": [],
   "source": [
    "import pyvisa as visa\n",
    "import numpy as np\n",
    "import time\n",
    "rm = visa.ResourceManager()"
   ]
  },
  {
   "cell_type": "code",
   "execution_count": 2,
   "id": "b2312a95",
   "metadata": {},
   "outputs": [
    {
     "data": {
      "text/plain": [
       "('ASRL1::INSTR',\n",
       " 'ASRL3::INSTR',\n",
       " 'ASRL5::INSTR',\n",
       " 'ASRL10::INSTR',\n",
       " 'GPIB0::20::INSTR')"
      ]
     },
     "execution_count": 2,
     "metadata": {},
     "output_type": "execute_result"
    }
   ],
   "source": [
    "rm.list_resources()"
   ]
  },
  {
   "cell_type": "code",
   "execution_count": 4,
   "id": "be6139fa",
   "metadata": {},
   "outputs": [
    {
     "name": "stdout",
     "output_type": "stream",
     "text": [
      "Stanford Research Systems,SG384,s/n001532,ver1.23.0E\r\n",
      "\n",
      "Rohde&Schwarz,FSG-13,100197/013,4.79\n",
      "\n"
     ]
    }
   ],
   "source": [
    "SG = rm.open_resource('ASRL3::INSTR')\n",
    "print(SG.query('*idn?'))\n",
    "SA = rm.open_resource('GPIB0::20::INSTR')\n",
    "print(SA.query('*idn?'))"
   ]
  },
  {
   "cell_type": "code",
   "execution_count": 30,
   "id": "190b7df8",
   "metadata": {},
   "outputs": [
    {
     "data": {
      "text/plain": [
       "7"
      ]
     },
     "execution_count": 30,
     "metadata": {},
     "output_type": "execute_result"
    }
   ],
   "source": [
    "SG.write('freq2.87Ghz')\n",
    "SG.write('ampr-18dbm')\n",
    "SG.write('enbr1')"
   ]
  },
  {
   "cell_type": "code",
   "execution_count": 6,
   "id": "3b1a2d9b",
   "metadata": {},
   "outputs": [
    {
     "data": {
      "text/plain": [
       "12"
      ]
     },
     "execution_count": 6,
     "metadata": {},
     "output_type": "execute_result"
    }
   ],
   "source": [
    "SA.write(\"INP:COUP DC\")\n",
    "SA.write('INP:ATT:AUTO OFF')\n",
    "SA.write('INP:ATT 0dB')\n",
    "SA.write('INP:IMP 50')"
   ]
  },
  {
   "cell_type": "code",
   "execution_count": 7,
   "id": "1d53aa53",
   "metadata": {},
   "outputs": [
    {
     "data": {
      "text/plain": [
       "19"
      ]
     },
     "execution_count": 7,
     "metadata": {},
     "output_type": "execute_result"
    }
   ],
   "source": [
    "SA.write('INIT1:CONT OFF')\n",
    "#SA.write('AVER:STAT OFF')\n",
    "#SA.write('SENS1DET1 APEAK')\n",
    "SA.write('FREQ:CENT 2.87GHz')\n",
    "#SA.write('SWE:POIN 5001')\n",
    "SA.write('SWE:TIME 100s')\n",
    "SA.write('SWE:COUN 1')\n",
    "SA.write('CALC:UNIT:POW DBM')"
   ]
  },
  {
   "cell_type": "code",
   "execution_count": 5,
   "id": "40f4cb78",
   "metadata": {},
   "outputs": [
    {
     "data": {
      "text/plain": [
       "6"
      ]
     },
     "execution_count": 5,
     "metadata": {},
     "output_type": "execute_result"
    }
   ],
   "source": [
    "SA.write('*rst')"
   ]
  },
  {
   "cell_type": "code",
   "execution_count": null,
   "id": "50486d77",
   "metadata": {},
   "outputs": [],
   "source": [
    "#SA.write('CALC:MARK:AOFF')\n",
    "#SA.write('CALC:MARK1:ON')\n",
    "#SA.write('CALC:MARK2:OFF')\n"
   ]
  },
  {
   "cell_type": "code",
   "execution_count": null,
   "id": "98ad20bd",
   "metadata": {},
   "outputs": [],
   "source": [
    "#SA.write('DISP:WIND1:TRAC:Y:UNIT dbm')"
   ]
  },
  {
   "cell_type": "code",
   "execution_count": null,
   "id": "1d16536f",
   "metadata": {},
   "outputs": [],
   "source": []
  },
  {
   "cell_type": "code",
   "execution_count": null,
   "id": "9702b474",
   "metadata": {},
   "outputs": [],
   "source": [
    "SA.query('CALC:MARK:FUNC:FPE:COUN?')"
   ]
  },
  {
   "cell_type": "code",
   "execution_count": null,
   "id": "d4ae696d",
   "metadata": {},
   "outputs": [],
   "source": [
    "SA.write('INIT1:CONT OFF')\n",
    "\n",
    "SA.write(\"CALC:MARK:X:SLIM:STAT ON\")\n",
    "SA.write(\"CALC:MARK:X:SLIM:LEFT 2.86GHz;RIGHt 2.88GHz\")\n",
    "SA.write(\"CALC:THR:STAT OFF\")\n",
    "#SA.write(\"CALC:THR -60DBM\")\n",
    "SA.write(\"CALC:MARK:FUNC:FPE:STAT ON\")\n",
    "SA.write(\"CALC:MARK:FUNC:FPE:LIST:SIZE 1\")\n",
    "SA.write(\"INIT;*WAI\")"
   ]
  },
  {
   "cell_type": "code",
   "execution_count": null,
   "id": "74ee2681",
   "metadata": {},
   "outputs": [],
   "source": [
    "#SA.write(\"CALC:MARK:FUNC:FPE:STAT ON\")\n",
    "#SA.write(\"CALC:MARK:FUNC:FPE:LIST:SIZE 1\")\n",
    "print(1)\n",
    "#SA.write(\"CALC:MARK:FUNC:FPE:Y?\")\n",
    "a = SA.query_ascii_values(\"CALC:MARK:FUNC:FPE:Y?\", converter='f', separator=',')\n",
    "#l = \"\"\n",
    "#amp = SA.read(l, 1)"
   ]
  },
  {
   "cell_type": "code",
   "execution_count": null,
   "id": "3dad13d7",
   "metadata": {},
   "outputs": [],
   "source": [
    "print(SA.query(\"CALC:MARK:FUNC:FPE:COUN?\"))\n",
    "print(SA.query(\"CALC:MARK:FUNK:FPE:Y?\"))\n",
    "\n",
    "\n",
    "SA.write(\"CALC:MARK:FUNC:FPE 1\")\n",
    "SA.write(\"CALC:MARK:FUNC:FPE ON\")\n",
    "SA.write(\"CALC:MARK:FUNC:FPE:SEAR:AUTO ON\")\n",
    "\n",
    "SA.write(\"CALC:MARK:FUNC:FPE:ANN:MARK ON\")\n",
    "SA.write(\"CALC:MARK:FUNC:FPE:ANN:LAB ON\")"
   ]
  },
  {
   "cell_type": "code",
   "execution_count": null,
   "id": "1c5e0963",
   "metadata": {
    "scrolled": false
   },
   "outputs": [],
   "source": [
    "'ampr'+str(1)"
   ]
  },
  {
   "cell_type": "code",
   "execution_count": 26,
   "id": "e7a906b3",
   "metadata": {},
   "outputs": [
    {
     "name": "stdout",
     "output_type": "stream",
     "text": [
      "4\n"
     ]
    }
   ],
   "source": [
    "start_amp = -44\n",
    "stop_amp = 4\n",
    "amp_list = range(stop_amp,start_amp,-4)\n",
    "#amp_list = np.linspace(stop_amp, start_amp, 8)\n",
    "print(amp_list[0])"
   ]
  },
  {
   "cell_type": "code",
   "execution_count": 27,
   "id": "02cc69a5",
   "metadata": {},
   "outputs": [
    {
     "name": "stdout",
     "output_type": "stream",
     "text": [
      "1/12\n",
      "2/12\n",
      "3/12\n",
      "4/12\n",
      "5/12\n",
      "6/12\n",
      "7/12\n",
      "8/12\n",
      "9/12\n",
      "10/12\n",
      "11/12\n",
      "12/12\n"
     ]
    }
   ],
   "source": [
    "SG.write('enbr1')\n",
    "SA.write('CALC:MARK:MAX:AUTO ON')\n",
    "SA.write(\"CALC:MARK:X:SLIM:STAT ON\")\n",
    "SA.write(\"CALC:MARK:X:SLIM:LEFT 2.86GHz;RIGHt 2.88GHz\")\n",
    "SA.write(\"CALC:THR:STAT OFF\")\n",
    "SA.write(\"CALC:MARK:FUNC:FPE:STAT ON\")\n",
    "SA.write(\"CALC:MARK:FUNC:FPE:LIST:SIZE 1\")\n",
    "for i in range(0,len(amp_list)):\n",
    "    print(str(i+1)+\"/\"+str(len(amp_list)))\n",
    "    SG.write('ampr'+str(amp_list[i])+'dbm')\n",
    "    SA.write('INIT1:CONT OFF')\n",
    "    SA.write(\"INIT;*WAI\")\n",
    "    #SA.write(\"CALC:THR -60DBM\")\n",
    "    time.sleep(110)"
   ]
  },
  {
   "cell_type": "code",
   "execution_count": 28,
   "id": "aee4472a",
   "metadata": {},
   "outputs": [
    {
     "name": "stdout",
     "output_type": "stream",
     "text": [
      "11\n"
     ]
    }
   ],
   "source": [
    "print(i)"
   ]
  },
  {
   "cell_type": "code",
   "execution_count": null,
   "id": "fcb6dee5",
   "metadata": {},
   "outputs": [],
   "source": [
    "print(len(range(10,0,-1)))"
   ]
  },
  {
   "cell_type": "code",
   "execution_count": 16,
   "id": "7ef9c895",
   "metadata": {},
   "outputs": [
    {
     "data": {
      "text/plain": [
       "11"
      ]
     },
     "execution_count": 16,
     "metadata": {},
     "output_type": "execute_result"
    }
   ],
   "source": [
    "SA.write('INIT1:CONT OFF')\n",
    "SA.write(\"INIT;*WAI\")"
   ]
  },
  {
   "cell_type": "code",
   "execution_count": 37,
   "id": "ea7c88f7",
   "metadata": {},
   "outputs": [
    {
     "data": {
      "text/plain": [
       "11"
      ]
     },
     "execution_count": 37,
     "metadata": {},
     "output_type": "execute_result"
    }
   ],
   "source": [
    "SG.write('ampr-4dbm')"
   ]
  },
  {
   "cell_type": "code",
   "execution_count": null,
   "id": "df04fee1",
   "metadata": {},
   "outputs": [],
   "source": []
  }
 ],
 "metadata": {
  "kernelspec": {
   "display_name": "Python 3",
   "language": "python",
   "name": "python3"
  },
  "language_info": {
   "codemirror_mode": {
    "name": "ipython",
    "version": 3
   },
   "file_extension": ".py",
   "mimetype": "text/x-python",
   "name": "python",
   "nbconvert_exporter": "python",
   "pygments_lexer": "ipython3",
   "version": "3.8.8"
  }
 },
 "nbformat": 4,
 "nbformat_minor": 5
}
